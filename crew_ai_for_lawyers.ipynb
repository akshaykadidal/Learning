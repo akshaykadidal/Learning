{
 "cells": [
  {
   "cell_type": "code",
   "execution_count": 8,
   "metadata": {
    "id": "8DSjUsW43-My"
   },
   "outputs": [],
   "source": [
    "import os"
   ]
  },
  {
   "cell_type": "code",
   "execution_count": 18,
   "metadata": {},
   "outputs": [
    {
     "name": "stdout",
     "output_type": "stream",
     "text": [
      "Requirement already satisfied: crewai in /usr/local/python/3.12.1/lib/python3.12/site-packages (0.80.0)\n",
      "Requirement already satisfied: appdirs>=1.4.4 in /usr/local/python/3.12.1/lib/python3.12/site-packages (from crewai) (1.4.4)\n",
      "Requirement already satisfied: auth0-python>=4.7.1 in /usr/local/python/3.12.1/lib/python3.12/site-packages (from crewai) (4.7.2)\n",
      "Requirement already satisfied: chromadb>=0.4.24 in /usr/local/python/3.12.1/lib/python3.12/site-packages (from crewai) (0.5.18)\n",
      "Requirement already satisfied: click>=8.1.7 in /usr/local/python/3.12.1/lib/python3.12/site-packages (from crewai) (8.1.7)\n",
      "Requirement already satisfied: crewai-tools>=0.14.0 in /usr/local/python/3.12.1/lib/python3.12/site-packages (from crewai) (0.14.0)\n",
      "Requirement already satisfied: instructor>=1.3.3 in /usr/local/python/3.12.1/lib/python3.12/site-packages (from crewai) (1.6.4)\n",
      "Requirement already satisfied: json-repair>=0.25.2 in /usr/local/python/3.12.1/lib/python3.12/site-packages (from crewai) (0.30.2)\n",
      "Requirement already satisfied: jsonref>=1.1.0 in /usr/local/python/3.12.1/lib/python3.12/site-packages (from crewai) (1.1.0)\n",
      "Requirement already satisfied: langchain>=0.2.16 in /usr/local/python/3.12.1/lib/python3.12/site-packages (from crewai) (0.3.7)\n",
      "Requirement already satisfied: litellm>=1.44.22 in /usr/local/python/3.12.1/lib/python3.12/site-packages (from crewai) (1.52.8)\n",
      "Requirement already satisfied: openai>=1.13.3 in /usr/local/python/3.12.1/lib/python3.12/site-packages (from crewai) (1.54.4)\n",
      "Requirement already satisfied: opentelemetry-api>=1.22.0 in /usr/local/python/3.12.1/lib/python3.12/site-packages (from crewai) (1.28.1)\n",
      "Requirement already satisfied: opentelemetry-exporter-otlp-proto-http>=1.22.0 in /usr/local/python/3.12.1/lib/python3.12/site-packages (from crewai) (1.28.1)\n",
      "Requirement already satisfied: opentelemetry-sdk>=1.22.0 in /usr/local/python/3.12.1/lib/python3.12/site-packages (from crewai) (1.28.1)\n",
      "Requirement already satisfied: pydantic>=2.4.2 in /usr/local/python/3.12.1/lib/python3.12/site-packages (from crewai) (2.9.2)\n",
      "Requirement already satisfied: python-dotenv>=1.0.0 in /usr/local/python/3.12.1/lib/python3.12/site-packages (from crewai) (1.0.1)\n",
      "Requirement already satisfied: pyvis>=0.3.2 in /usr/local/python/3.12.1/lib/python3.12/site-packages (from crewai) (0.3.2)\n",
      "Requirement already satisfied: regex>=2024.9.11 in /usr/local/python/3.12.1/lib/python3.12/site-packages (from crewai) (2024.11.6)\n",
      "Requirement already satisfied: tomli-w>=1.1.0 in /usr/local/python/3.12.1/lib/python3.12/site-packages (from crewai) (1.1.0)\n",
      "Requirement already satisfied: tomli>=2.0.2 in /usr/local/python/3.12.1/lib/python3.12/site-packages (from crewai) (2.1.0)\n",
      "Requirement already satisfied: uv>=0.4.25 in /usr/local/python/3.12.1/lib/python3.12/site-packages (from crewai) (0.5.2)\n",
      "Requirement already satisfied: aiohttp<4.0.0,>=3.8.5 in /usr/local/python/3.12.1/lib/python3.12/site-packages (from auth0-python>=4.7.1->crewai) (3.11.2)\n",
      "Requirement already satisfied: cryptography<44.0.0,>=43.0.1 in /usr/local/python/3.12.1/lib/python3.12/site-packages (from auth0-python>=4.7.1->crewai) (43.0.3)\n",
      "Requirement already satisfied: pyjwt<3.0.0,>=2.8.0 in /usr/local/python/3.12.1/lib/python3.12/site-packages (from auth0-python>=4.7.1->crewai) (2.9.0)\n",
      "Requirement already satisfied: requests<3.0.0,>=2.31.0 in /home/codespace/.local/lib/python3.12/site-packages (from auth0-python>=4.7.1->crewai) (2.32.3)\n",
      "Requirement already satisfied: urllib3<3.0.0,>=2.0.7 in /home/codespace/.local/lib/python3.12/site-packages (from auth0-python>=4.7.1->crewai) (2.2.3)\n",
      "Requirement already satisfied: build>=1.0.3 in /usr/local/python/3.12.1/lib/python3.12/site-packages (from chromadb>=0.4.24->crewai) (1.2.2.post1)\n",
      "Requirement already satisfied: chroma-hnswlib==0.7.6 in /usr/local/python/3.12.1/lib/python3.12/site-packages (from chromadb>=0.4.24->crewai) (0.7.6)\n",
      "Requirement already satisfied: fastapi>=0.95.2 in /usr/local/python/3.12.1/lib/python3.12/site-packages (from chromadb>=0.4.24->crewai) (0.115.5)\n",
      "Requirement already satisfied: uvicorn>=0.18.3 in /usr/local/python/3.12.1/lib/python3.12/site-packages (from uvicorn[standard]>=0.18.3->chromadb>=0.4.24->crewai) (0.32.0)\n",
      "Requirement already satisfied: numpy>=1.22.5 in /usr/local/python/3.12.1/lib/python3.12/site-packages (from chromadb>=0.4.24->crewai) (1.26.4)\n",
      "Requirement already satisfied: posthog>=2.4.0 in /usr/local/python/3.12.1/lib/python3.12/site-packages (from chromadb>=0.4.24->crewai) (3.7.0)\n",
      "Requirement already satisfied: typing-extensions>=4.5.0 in /usr/local/python/3.12.1/lib/python3.12/site-packages (from chromadb>=0.4.24->crewai) (4.12.2)\n",
      "Requirement already satisfied: onnxruntime>=1.14.1 in /usr/local/python/3.12.1/lib/python3.12/site-packages (from chromadb>=0.4.24->crewai) (1.20.0)\n",
      "Requirement already satisfied: opentelemetry-exporter-otlp-proto-grpc>=1.2.0 in /usr/local/python/3.12.1/lib/python3.12/site-packages (from chromadb>=0.4.24->crewai) (1.28.1)\n",
      "Requirement already satisfied: opentelemetry-instrumentation-fastapi>=0.41b0 in /usr/local/python/3.12.1/lib/python3.12/site-packages (from chromadb>=0.4.24->crewai) (0.49b1)\n",
      "Requirement already satisfied: tokenizers>=0.13.2 in /usr/local/python/3.12.1/lib/python3.12/site-packages (from chromadb>=0.4.24->crewai) (0.20.3)\n",
      "Requirement already satisfied: pypika>=0.48.9 in /usr/local/python/3.12.1/lib/python3.12/site-packages (from chromadb>=0.4.24->crewai) (0.48.9)\n",
      "Requirement already satisfied: tqdm>=4.65.0 in /usr/local/python/3.12.1/lib/python3.12/site-packages (from chromadb>=0.4.24->crewai) (4.67.0)\n",
      "Requirement already satisfied: overrides>=7.3.1 in /home/codespace/.local/lib/python3.12/site-packages (from chromadb>=0.4.24->crewai) (7.7.0)\n",
      "Requirement already satisfied: importlib-resources in /usr/local/python/3.12.1/lib/python3.12/site-packages (from chromadb>=0.4.24->crewai) (6.4.5)\n",
      "Requirement already satisfied: grpcio>=1.58.0 in /usr/local/python/3.12.1/lib/python3.12/site-packages (from chromadb>=0.4.24->crewai) (1.67.1)\n",
      "Requirement already satisfied: bcrypt>=4.0.1 in /usr/local/python/3.12.1/lib/python3.12/site-packages (from chromadb>=0.4.24->crewai) (4.2.0)\n",
      "Requirement already satisfied: typer>=0.9.0 in /usr/local/python/3.12.1/lib/python3.12/site-packages (from chromadb>=0.4.24->crewai) (0.13.0)\n",
      "Requirement already satisfied: kubernetes>=28.1.0 in /usr/local/python/3.12.1/lib/python3.12/site-packages (from chromadb>=0.4.24->crewai) (31.0.0)\n",
      "Requirement already satisfied: tenacity>=8.2.3 in /home/codespace/.local/lib/python3.12/site-packages (from chromadb>=0.4.24->crewai) (9.0.0)\n",
      "Requirement already satisfied: PyYAML>=6.0.0 in /home/codespace/.local/lib/python3.12/site-packages (from chromadb>=0.4.24->crewai) (6.0.2)\n",
      "Requirement already satisfied: mmh3>=4.0.1 in /usr/local/python/3.12.1/lib/python3.12/site-packages (from chromadb>=0.4.24->crewai) (5.0.1)\n",
      "Requirement already satisfied: orjson>=3.9.12 in /usr/local/python/3.12.1/lib/python3.12/site-packages (from chromadb>=0.4.24->crewai) (3.10.11)\n",
      "Requirement already satisfied: httpx>=0.27.0 in /home/codespace/.local/lib/python3.12/site-packages (from chromadb>=0.4.24->crewai) (0.27.2)\n",
      "Requirement already satisfied: rich>=10.11.0 in /usr/local/python/3.12.1/lib/python3.12/site-packages (from chromadb>=0.4.24->crewai) (13.9.4)\n",
      "Requirement already satisfied: beautifulsoup4>=4.12.3 in /home/codespace/.local/lib/python3.12/site-packages (from crewai-tools>=0.14.0->crewai) (4.12.3)\n",
      "Requirement already satisfied: docker>=7.1.0 in /usr/local/python/3.12.1/lib/python3.12/site-packages (from crewai-tools>=0.14.0->crewai) (7.1.0)\n",
      "Requirement already satisfied: docx2txt>=0.8 in /usr/local/python/3.12.1/lib/python3.12/site-packages (from crewai-tools>=0.14.0->crewai) (0.8)\n",
      "Requirement already satisfied: embedchain>=0.1.114 in /usr/local/python/3.12.1/lib/python3.12/site-packages (from crewai-tools>=0.14.0->crewai) (0.1.125)\n",
      "Requirement already satisfied: lancedb>=0.5.4 in /usr/local/python/3.12.1/lib/python3.12/site-packages (from crewai-tools>=0.14.0->crewai) (0.16.0)\n",
      "Requirement already satisfied: pyright>=1.1.350 in /usr/local/python/3.12.1/lib/python3.12/site-packages (from crewai-tools>=0.14.0->crewai) (1.1.389)\n",
      "Requirement already satisfied: pytest>=8.0.0 in /usr/local/python/3.12.1/lib/python3.12/site-packages (from crewai-tools>=0.14.0->crewai) (8.3.3)\n",
      "Requirement already satisfied: pytube>=15.0.0 in /usr/local/python/3.12.1/lib/python3.12/site-packages (from crewai-tools>=0.14.0->crewai) (15.0.0)\n",
      "Requirement already satisfied: selenium>=4.18.1 in /usr/local/python/3.12.1/lib/python3.12/site-packages (from crewai-tools>=0.14.0->crewai) (4.26.1)\n",
      "Requirement already satisfied: docstring-parser<0.17,>=0.16 in /usr/local/python/3.12.1/lib/python3.12/site-packages (from instructor>=1.3.3->crewai) (0.16)\n",
      "Requirement already satisfied: jinja2<4.0.0,>=3.1.4 in /home/codespace/.local/lib/python3.12/site-packages (from instructor>=1.3.3->crewai) (3.1.4)\n",
      "Requirement already satisfied: jiter<0.7,>=0.6.1 in /usr/local/python/3.12.1/lib/python3.12/site-packages (from instructor>=1.3.3->crewai) (0.6.1)\n",
      "Requirement already satisfied: pydantic-core<3.0.0,>=2.18.0 in /usr/local/python/3.12.1/lib/python3.12/site-packages (from instructor>=1.3.3->crewai) (2.23.4)\n",
      "Requirement already satisfied: SQLAlchemy<3,>=1.4 in /usr/local/python/3.12.1/lib/python3.12/site-packages (from langchain>=0.2.16->crewai) (2.0.36)\n",
      "Requirement already satisfied: langchain-core<0.4.0,>=0.3.15 in /usr/local/python/3.12.1/lib/python3.12/site-packages (from langchain>=0.2.16->crewai) (0.3.19)\n",
      "Requirement already satisfied: langchain-text-splitters<0.4.0,>=0.3.0 in /usr/local/python/3.12.1/lib/python3.12/site-packages (from langchain>=0.2.16->crewai) (0.3.2)\n",
      "Requirement already satisfied: langsmith<0.2.0,>=0.1.17 in /usr/local/python/3.12.1/lib/python3.12/site-packages (from langchain>=0.2.16->crewai) (0.1.143)\n",
      "Requirement already satisfied: importlib-metadata>=6.8.0 in /usr/local/python/3.12.1/lib/python3.12/site-packages (from litellm>=1.44.22->crewai) (8.5.0)\n",
      "Requirement already satisfied: jsonschema<5.0.0,>=4.22.0 in /home/codespace/.local/lib/python3.12/site-packages (from litellm>=1.44.22->crewai) (4.23.0)\n",
      "Requirement already satisfied: tiktoken>=0.7.0 in /usr/local/python/3.12.1/lib/python3.12/site-packages (from litellm>=1.44.22->crewai) (0.7.0)\n",
      "Requirement already satisfied: anyio<5,>=3.5.0 in /home/codespace/.local/lib/python3.12/site-packages (from openai>=1.13.3->crewai) (4.6.0)\n",
      "Requirement already satisfied: distro<2,>=1.7.0 in /usr/local/python/3.12.1/lib/python3.12/site-packages (from openai>=1.13.3->crewai) (1.9.0)\n",
      "Requirement already satisfied: sniffio in /home/codespace/.local/lib/python3.12/site-packages (from openai>=1.13.3->crewai) (1.3.1)\n",
      "Requirement already satisfied: deprecated>=1.2.6 in /usr/local/python/3.12.1/lib/python3.12/site-packages (from opentelemetry-api>=1.22.0->crewai) (1.2.15)\n",
      "Requirement already satisfied: googleapis-common-protos~=1.52 in /usr/local/python/3.12.1/lib/python3.12/site-packages (from opentelemetry-exporter-otlp-proto-http>=1.22.0->crewai) (1.66.0)\n",
      "Requirement already satisfied: opentelemetry-exporter-otlp-proto-common==1.28.1 in /usr/local/python/3.12.1/lib/python3.12/site-packages (from opentelemetry-exporter-otlp-proto-http>=1.22.0->crewai) (1.28.1)\n",
      "Requirement already satisfied: opentelemetry-proto==1.28.1 in /usr/local/python/3.12.1/lib/python3.12/site-packages (from opentelemetry-exporter-otlp-proto-http>=1.22.0->crewai) (1.28.1)\n",
      "Requirement already satisfied: protobuf<6.0,>=5.0 in /usr/local/python/3.12.1/lib/python3.12/site-packages (from opentelemetry-proto==1.28.1->opentelemetry-exporter-otlp-proto-http>=1.22.0->crewai) (5.28.3)\n",
      "Requirement already satisfied: opentelemetry-semantic-conventions==0.49b1 in /usr/local/python/3.12.1/lib/python3.12/site-packages (from opentelemetry-sdk>=1.22.0->crewai) (0.49b1)\n",
      "Requirement already satisfied: annotated-types>=0.6.0 in /usr/local/python/3.12.1/lib/python3.12/site-packages (from pydantic>=2.4.2->crewai) (0.7.0)\n",
      "Requirement already satisfied: ipython>=5.3.0 in /home/codespace/.local/lib/python3.12/site-packages (from pyvis>=0.3.2->crewai) (8.27.0)\n",
      "Requirement already satisfied: jsonpickle>=1.4.1 in /usr/local/python/3.12.1/lib/python3.12/site-packages (from pyvis>=0.3.2->crewai) (4.0.0)\n",
      "Requirement already satisfied: networkx>=1.11 in /home/codespace/.local/lib/python3.12/site-packages (from pyvis>=0.3.2->crewai) (3.2.1)\n",
      "Requirement already satisfied: aiohappyeyeballs>=2.3.0 in /usr/local/python/3.12.1/lib/python3.12/site-packages (from aiohttp<4.0.0,>=3.8.5->auth0-python>=4.7.1->crewai) (2.4.3)\n",
      "Requirement already satisfied: aiosignal>=1.1.2 in /usr/local/python/3.12.1/lib/python3.12/site-packages (from aiohttp<4.0.0,>=3.8.5->auth0-python>=4.7.1->crewai) (1.3.1)\n",
      "Requirement already satisfied: attrs>=17.3.0 in /home/codespace/.local/lib/python3.12/site-packages (from aiohttp<4.0.0,>=3.8.5->auth0-python>=4.7.1->crewai) (24.2.0)\n",
      "Requirement already satisfied: frozenlist>=1.1.1 in /usr/local/python/3.12.1/lib/python3.12/site-packages (from aiohttp<4.0.0,>=3.8.5->auth0-python>=4.7.1->crewai) (1.5.0)\n",
      "Requirement already satisfied: multidict<7.0,>=4.5 in /usr/local/python/3.12.1/lib/python3.12/site-packages (from aiohttp<4.0.0,>=3.8.5->auth0-python>=4.7.1->crewai) (6.1.0)\n",
      "Requirement already satisfied: propcache>=0.2.0 in /usr/local/python/3.12.1/lib/python3.12/site-packages (from aiohttp<4.0.0,>=3.8.5->auth0-python>=4.7.1->crewai) (0.2.0)\n",
      "Requirement already satisfied: yarl<2.0,>=1.17.0 in /usr/local/python/3.12.1/lib/python3.12/site-packages (from aiohttp<4.0.0,>=3.8.5->auth0-python>=4.7.1->crewai) (1.17.1)\n",
      "Requirement already satisfied: idna>=2.8 in /home/codespace/.local/lib/python3.12/site-packages (from anyio<5,>=3.5.0->openai>=1.13.3->crewai) (3.10)\n",
      "Requirement already satisfied: soupsieve>1.2 in /home/codespace/.local/lib/python3.12/site-packages (from beautifulsoup4>=4.12.3->crewai-tools>=0.14.0->crewai) (2.6)\n",
      "Requirement already satisfied: packaging>=19.1 in /home/codespace/.local/lib/python3.12/site-packages (from build>=1.0.3->chromadb>=0.4.24->crewai) (24.1)\n",
      "Requirement already satisfied: pyproject_hooks in /usr/local/python/3.12.1/lib/python3.12/site-packages (from build>=1.0.3->chromadb>=0.4.24->crewai) (1.2.0)\n",
      "Requirement already satisfied: cffi>=1.12 in /home/codespace/.local/lib/python3.12/site-packages (from cryptography<44.0.0,>=43.0.1->auth0-python>=4.7.1->crewai) (1.17.1)\n",
      "Requirement already satisfied: wrapt<2,>=1.10 in /usr/local/python/3.12.1/lib/python3.12/site-packages (from deprecated>=1.2.6->opentelemetry-api>=1.22.0->crewai) (1.16.0)\n",
      "Requirement already satisfied: alembic<2.0.0,>=1.13.1 in /usr/local/python/3.12.1/lib/python3.12/site-packages (from embedchain>=0.1.114->crewai-tools>=0.14.0->crewai) (1.14.0)\n",
      "Requirement already satisfied: cohere<6.0,>=5.3 in /usr/local/python/3.12.1/lib/python3.12/site-packages (from embedchain>=0.1.114->crewai-tools>=0.14.0->crewai) (5.11.4)\n",
      "Requirement already satisfied: google-cloud-aiplatform<2.0.0,>=1.26.1 in /usr/local/python/3.12.1/lib/python3.12/site-packages (from embedchain>=0.1.114->crewai-tools>=0.14.0->crewai) (1.72.0)\n",
      "Requirement already satisfied: gptcache<0.2.0,>=0.1.43 in /usr/local/python/3.12.1/lib/python3.12/site-packages (from embedchain>=0.1.114->crewai-tools>=0.14.0->crewai) (0.1.44)\n",
      "Requirement already satisfied: langchain-cohere<0.4.0,>=0.3.0 in /usr/local/python/3.12.1/lib/python3.12/site-packages (from embedchain>=0.1.114->crewai-tools>=0.14.0->crewai) (0.3.1)\n",
      "Requirement already satisfied: langchain-community<0.4.0,>=0.3.1 in /usr/local/python/3.12.1/lib/python3.12/site-packages (from embedchain>=0.1.114->crewai-tools>=0.14.0->crewai) (0.3.7)\n",
      "Requirement already satisfied: langchain-openai<0.3.0,>=0.2.1 in /usr/local/python/3.12.1/lib/python3.12/site-packages (from embedchain>=0.1.114->crewai-tools>=0.14.0->crewai) (0.2.8)\n",
      "Requirement already satisfied: mem0ai<0.2.0,>=0.1.29 in /usr/local/python/3.12.1/lib/python3.12/site-packages (from embedchain>=0.1.114->crewai-tools>=0.14.0->crewai) (0.1.29)\n",
      "Requirement already satisfied: pypdf<6.0.0,>=5.0.0 in /usr/local/python/3.12.1/lib/python3.12/site-packages (from embedchain>=0.1.114->crewai-tools>=0.14.0->crewai) (5.1.0)\n",
      "Requirement already satisfied: pysbd<0.4.0,>=0.3.4 in /usr/local/python/3.12.1/lib/python3.12/site-packages (from embedchain>=0.1.114->crewai-tools>=0.14.0->crewai) (0.3.4)\n",
      "Requirement already satisfied: schema<0.8.0,>=0.7.5 in /usr/local/python/3.12.1/lib/python3.12/site-packages (from embedchain>=0.1.114->crewai-tools>=0.14.0->crewai) (0.7.7)\n",
      "Requirement already satisfied: starlette<0.42.0,>=0.40.0 in /usr/local/python/3.12.1/lib/python3.12/site-packages (from fastapi>=0.95.2->chromadb>=0.4.24->crewai) (0.41.2)\n",
      "Requirement already satisfied: certifi in /home/codespace/.local/lib/python3.12/site-packages (from httpx>=0.27.0->chromadb>=0.4.24->crewai) (2024.8.30)\n",
      "Requirement already satisfied: httpcore==1.* in /home/codespace/.local/lib/python3.12/site-packages (from httpx>=0.27.0->chromadb>=0.4.24->crewai) (1.0.5)\n",
      "Requirement already satisfied: h11<0.15,>=0.13 in /home/codespace/.local/lib/python3.12/site-packages (from httpcore==1.*->httpx>=0.27.0->chromadb>=0.4.24->crewai) (0.14.0)\n",
      "Requirement already satisfied: zipp>=3.20 in /usr/local/python/3.12.1/lib/python3.12/site-packages (from importlib-metadata>=6.8.0->litellm>=1.44.22->crewai) (3.21.0)\n",
      "Requirement already satisfied: decorator in /home/codespace/.local/lib/python3.12/site-packages (from ipython>=5.3.0->pyvis>=0.3.2->crewai) (5.1.1)\n",
      "Requirement already satisfied: jedi>=0.16 in /home/codespace/.local/lib/python3.12/site-packages (from ipython>=5.3.0->pyvis>=0.3.2->crewai) (0.19.1)\n",
      "Requirement already satisfied: matplotlib-inline in /home/codespace/.local/lib/python3.12/site-packages (from ipython>=5.3.0->pyvis>=0.3.2->crewai) (0.1.7)\n",
      "Requirement already satisfied: prompt-toolkit<3.1.0,>=3.0.41 in /home/codespace/.local/lib/python3.12/site-packages (from ipython>=5.3.0->pyvis>=0.3.2->crewai) (3.0.48)\n",
      "Requirement already satisfied: pygments>=2.4.0 in /home/codespace/.local/lib/python3.12/site-packages (from ipython>=5.3.0->pyvis>=0.3.2->crewai) (2.18.0)\n",
      "Requirement already satisfied: stack-data in /home/codespace/.local/lib/python3.12/site-packages (from ipython>=5.3.0->pyvis>=0.3.2->crewai) (0.6.3)\n",
      "Requirement already satisfied: traitlets>=5.13.0 in /home/codespace/.local/lib/python3.12/site-packages (from ipython>=5.3.0->pyvis>=0.3.2->crewai) (5.14.3)\n",
      "Requirement already satisfied: pexpect>4.3 in /home/codespace/.local/lib/python3.12/site-packages (from ipython>=5.3.0->pyvis>=0.3.2->crewai) (4.9.0)\n",
      "Requirement already satisfied: MarkupSafe>=2.0 in /home/codespace/.local/lib/python3.12/site-packages (from jinja2<4.0.0,>=3.1.4->instructor>=1.3.3->crewai) (2.1.5)\n",
      "Requirement already satisfied: jsonschema-specifications>=2023.03.6 in /home/codespace/.local/lib/python3.12/site-packages (from jsonschema<5.0.0,>=4.22.0->litellm>=1.44.22->crewai) (2023.12.1)\n",
      "Requirement already satisfied: referencing>=0.28.4 in /home/codespace/.local/lib/python3.12/site-packages (from jsonschema<5.0.0,>=4.22.0->litellm>=1.44.22->crewai) (0.35.1)\n",
      "Requirement already satisfied: rpds-py>=0.7.1 in /home/codespace/.local/lib/python3.12/site-packages (from jsonschema<5.0.0,>=4.22.0->litellm>=1.44.22->crewai) (0.20.0)\n",
      "Requirement already satisfied: six>=1.9.0 in /home/codespace/.local/lib/python3.12/site-packages (from kubernetes>=28.1.0->chromadb>=0.4.24->crewai) (1.16.0)\n",
      "Requirement already satisfied: python-dateutil>=2.5.3 in /home/codespace/.local/lib/python3.12/site-packages (from kubernetes>=28.1.0->chromadb>=0.4.24->crewai) (2.9.0.post0)\n",
      "Requirement already satisfied: google-auth>=1.0.1 in /usr/local/python/3.12.1/lib/python3.12/site-packages (from kubernetes>=28.1.0->chromadb>=0.4.24->crewai) (2.36.0)\n",
      "Requirement already satisfied: websocket-client!=0.40.0,!=0.41.*,!=0.42.*,>=0.32.0 in /home/codespace/.local/lib/python3.12/site-packages (from kubernetes>=28.1.0->chromadb>=0.4.24->crewai) (1.8.0)\n",
      "Requirement already satisfied: requests-oauthlib in /usr/local/python/3.12.1/lib/python3.12/site-packages (from kubernetes>=28.1.0->chromadb>=0.4.24->crewai) (2.0.0)\n",
      "Requirement already satisfied: oauthlib>=3.2.2 in /usr/local/python/3.12.1/lib/python3.12/site-packages (from kubernetes>=28.1.0->chromadb>=0.4.24->crewai) (3.2.2)\n",
      "Requirement already satisfied: durationpy>=0.7 in /usr/local/python/3.12.1/lib/python3.12/site-packages (from kubernetes>=28.1.0->chromadb>=0.4.24->crewai) (0.9)\n",
      "Requirement already satisfied: deprecation in /usr/local/python/3.12.1/lib/python3.12/site-packages (from lancedb>=0.5.4->crewai-tools>=0.14.0->crewai) (2.1.0)\n",
      "Requirement already satisfied: nest-asyncio~=1.0 in /home/codespace/.local/lib/python3.12/site-packages (from lancedb>=0.5.4->crewai-tools>=0.14.0->crewai) (1.6.0)\n",
      "Requirement already satisfied: pylance==0.19.2 in /usr/local/python/3.12.1/lib/python3.12/site-packages (from lancedb>=0.5.4->crewai-tools>=0.14.0->crewai) (0.19.2)\n",
      "Requirement already satisfied: pyarrow>=12 in /usr/local/python/3.12.1/lib/python3.12/site-packages (from pylance==0.19.2->lancedb>=0.5.4->crewai-tools>=0.14.0->crewai) (18.0.0)\n",
      "Requirement already satisfied: jsonpatch<2.0,>=1.33 in /usr/local/python/3.12.1/lib/python3.12/site-packages (from langchain-core<0.4.0,>=0.3.15->langchain>=0.2.16->crewai) (1.33)\n",
      "Requirement already satisfied: requests-toolbelt<2.0.0,>=1.0.0 in /usr/local/python/3.12.1/lib/python3.12/site-packages (from langsmith<0.2.0,>=0.1.17->langchain>=0.2.16->crewai) (1.0.0)\n",
      "Requirement already satisfied: coloredlogs in /usr/local/python/3.12.1/lib/python3.12/site-packages (from onnxruntime>=1.14.1->chromadb>=0.4.24->crewai) (15.0.1)\n",
      "Requirement already satisfied: flatbuffers in /usr/local/python/3.12.1/lib/python3.12/site-packages (from onnxruntime>=1.14.1->chromadb>=0.4.24->crewai) (24.3.25)\n",
      "Requirement already satisfied: sympy in /home/codespace/.local/lib/python3.12/site-packages (from onnxruntime>=1.14.1->chromadb>=0.4.24->crewai) (1.12)\n",
      "Requirement already satisfied: opentelemetry-instrumentation-asgi==0.49b1 in /usr/local/python/3.12.1/lib/python3.12/site-packages (from opentelemetry-instrumentation-fastapi>=0.41b0->chromadb>=0.4.24->crewai) (0.49b1)\n",
      "Requirement already satisfied: opentelemetry-instrumentation==0.49b1 in /usr/local/python/3.12.1/lib/python3.12/site-packages (from opentelemetry-instrumentation-fastapi>=0.41b0->chromadb>=0.4.24->crewai) (0.49b1)\n",
      "Requirement already satisfied: opentelemetry-util-http==0.49b1 in /usr/local/python/3.12.1/lib/python3.12/site-packages (from opentelemetry-instrumentation-fastapi>=0.41b0->chromadb>=0.4.24->crewai) (0.49b1)\n",
      "Requirement already satisfied: asgiref~=3.0 in /usr/local/python/3.12.1/lib/python3.12/site-packages (from opentelemetry-instrumentation-asgi==0.49b1->opentelemetry-instrumentation-fastapi>=0.41b0->chromadb>=0.4.24->crewai) (3.8.1)\n",
      "Requirement already satisfied: monotonic>=1.5 in /usr/local/python/3.12.1/lib/python3.12/site-packages (from posthog>=2.4.0->chromadb>=0.4.24->crewai) (1.6)\n",
      "Requirement already satisfied: backoff>=1.10.0 in /usr/local/python/3.12.1/lib/python3.12/site-packages (from posthog>=2.4.0->chromadb>=0.4.24->crewai) (2.2.1)\n",
      "Requirement already satisfied: nodeenv>=1.6.0 in /usr/local/python/3.12.1/lib/python3.12/site-packages (from pyright>=1.1.350->crewai-tools>=0.14.0->crewai) (1.9.1)\n",
      "Requirement already satisfied: iniconfig in /usr/local/python/3.12.1/lib/python3.12/site-packages (from pytest>=8.0.0->crewai-tools>=0.14.0->crewai) (2.0.0)\n",
      "Requirement already satisfied: pluggy<2,>=1.5 in /usr/local/python/3.12.1/lib/python3.12/site-packages (from pytest>=8.0.0->crewai-tools>=0.14.0->crewai) (1.5.0)\n",
      "Requirement already satisfied: charset-normalizer<4,>=2 in /home/codespace/.local/lib/python3.12/site-packages (from requests<3.0.0,>=2.31.0->auth0-python>=4.7.1->crewai) (3.3.2)\n",
      "Requirement already satisfied: markdown-it-py>=2.2.0 in /usr/local/python/3.12.1/lib/python3.12/site-packages (from rich>=10.11.0->chromadb>=0.4.24->crewai) (3.0.0)\n",
      "Requirement already satisfied: trio~=0.17 in /usr/local/python/3.12.1/lib/python3.12/site-packages (from selenium>=4.18.1->crewai-tools>=0.14.0->crewai) (0.27.0)\n",
      "Requirement already satisfied: trio-websocket~=0.9 in /usr/local/python/3.12.1/lib/python3.12/site-packages (from selenium>=4.18.1->crewai-tools>=0.14.0->crewai) (0.11.1)\n",
      "Requirement already satisfied: greenlet!=0.4.17 in /usr/local/python/3.12.1/lib/python3.12/site-packages (from SQLAlchemy<3,>=1.4->langchain>=0.2.16->crewai) (3.1.1)\n",
      "Requirement already satisfied: huggingface-hub<1.0,>=0.16.4 in /usr/local/python/3.12.1/lib/python3.12/site-packages (from tokenizers>=0.13.2->chromadb>=0.4.24->crewai) (0.26.2)\n",
      "Requirement already satisfied: shellingham>=1.3.0 in /usr/local/python/3.12.1/lib/python3.12/site-packages (from typer>=0.9.0->chromadb>=0.4.24->crewai) (1.5.4)\n",
      "Requirement already satisfied: httptools>=0.5.0 in /usr/local/python/3.12.1/lib/python3.12/site-packages (from uvicorn[standard]>=0.18.3->chromadb>=0.4.24->crewai) (0.6.4)\n",
      "Requirement already satisfied: uvloop!=0.15.0,!=0.15.1,>=0.14.0 in /usr/local/python/3.12.1/lib/python3.12/site-packages (from uvicorn[standard]>=0.18.3->chromadb>=0.4.24->crewai) (0.21.0)\n",
      "Requirement already satisfied: watchfiles>=0.13 in /usr/local/python/3.12.1/lib/python3.12/site-packages (from uvicorn[standard]>=0.18.3->chromadb>=0.4.24->crewai) (0.24.0)\n",
      "Requirement already satisfied: websockets>=10.4 in /usr/local/python/3.12.1/lib/python3.12/site-packages (from uvicorn[standard]>=0.18.3->chromadb>=0.4.24->crewai) (14.1)\n",
      "Requirement already satisfied: Mako in /usr/local/python/3.12.1/lib/python3.12/site-packages (from alembic<2.0.0,>=1.13.1->embedchain>=0.1.114->crewai-tools>=0.14.0->crewai) (1.3.6)\n",
      "Requirement already satisfied: pycparser in /home/codespace/.local/lib/python3.12/site-packages (from cffi>=1.12->cryptography<44.0.0,>=43.0.1->auth0-python>=4.7.1->crewai) (2.22)\n",
      "Requirement already satisfied: fastavro<2.0.0,>=1.9.4 in /usr/local/python/3.12.1/lib/python3.12/site-packages (from cohere<6.0,>=5.3->embedchain>=0.1.114->crewai-tools>=0.14.0->crewai) (1.9.7)\n",
      "Requirement already satisfied: httpx-sse==0.4.0 in /usr/local/python/3.12.1/lib/python3.12/site-packages (from cohere<6.0,>=5.3->embedchain>=0.1.114->crewai-tools>=0.14.0->crewai) (0.4.0)\n",
      "Requirement already satisfied: parameterized<0.10.0,>=0.9.0 in /usr/local/python/3.12.1/lib/python3.12/site-packages (from cohere<6.0,>=5.3->embedchain>=0.1.114->crewai-tools>=0.14.0->crewai) (0.9.0)\n",
      "Requirement already satisfied: types-requests<3.0.0,>=2.0.0 in /usr/local/python/3.12.1/lib/python3.12/site-packages (from cohere<6.0,>=5.3->embedchain>=0.1.114->crewai-tools>=0.14.0->crewai) (2.32.0.20241016)\n",
      "Requirement already satisfied: cachetools<6.0,>=2.0.0 in /usr/local/python/3.12.1/lib/python3.12/site-packages (from google-auth>=1.0.1->kubernetes>=28.1.0->chromadb>=0.4.24->crewai) (5.5.0)\n",
      "Requirement already satisfied: pyasn1-modules>=0.2.1 in /usr/local/python/3.12.1/lib/python3.12/site-packages (from google-auth>=1.0.1->kubernetes>=28.1.0->chromadb>=0.4.24->crewai) (0.4.1)\n",
      "Requirement already satisfied: rsa<5,>=3.1.4 in /usr/local/python/3.12.1/lib/python3.12/site-packages (from google-auth>=1.0.1->kubernetes>=28.1.0->chromadb>=0.4.24->crewai) (4.9)\n",
      "Requirement already satisfied: google-api-core!=2.0.*,!=2.1.*,!=2.2.*,!=2.3.*,!=2.4.*,!=2.5.*,!=2.6.*,!=2.7.*,<3.0.0dev,>=1.34.1 in /usr/local/python/3.12.1/lib/python3.12/site-packages (from google-api-core[grpc]!=2.0.*,!=2.1.*,!=2.2.*,!=2.3.*,!=2.4.*,!=2.5.*,!=2.6.*,!=2.7.*,<3.0.0dev,>=1.34.1->google-cloud-aiplatform<2.0.0,>=1.26.1->embedchain>=0.1.114->crewai-tools>=0.14.0->crewai) (2.23.0)\n",
      "Requirement already satisfied: proto-plus<2.0.0dev,>=1.22.3 in /usr/local/python/3.12.1/lib/python3.12/site-packages (from google-cloud-aiplatform<2.0.0,>=1.26.1->embedchain>=0.1.114->crewai-tools>=0.14.0->crewai) (1.25.0)\n",
      "Requirement already satisfied: google-cloud-storage<3.0.0dev,>=1.32.0 in /usr/local/python/3.12.1/lib/python3.12/site-packages (from google-cloud-aiplatform<2.0.0,>=1.26.1->embedchain>=0.1.114->crewai-tools>=0.14.0->crewai) (2.18.2)\n",
      "Requirement already satisfied: google-cloud-bigquery!=3.20.0,<4.0.0dev,>=1.15.0 in /usr/local/python/3.12.1/lib/python3.12/site-packages (from google-cloud-aiplatform<2.0.0,>=1.26.1->embedchain>=0.1.114->crewai-tools>=0.14.0->crewai) (3.27.0)\n",
      "Requirement already satisfied: google-cloud-resource-manager<3.0.0dev,>=1.3.3 in /usr/local/python/3.12.1/lib/python3.12/site-packages (from google-cloud-aiplatform<2.0.0,>=1.26.1->embedchain>=0.1.114->crewai-tools>=0.14.0->crewai) (1.13.1)\n",
      "Requirement already satisfied: shapely<3.0.0dev in /usr/local/python/3.12.1/lib/python3.12/site-packages (from google-cloud-aiplatform<2.0.0,>=1.26.1->embedchain>=0.1.114->crewai-tools>=0.14.0->crewai) (2.0.6)\n",
      "Requirement already satisfied: filelock in /home/codespace/.local/lib/python3.12/site-packages (from huggingface-hub<1.0,>=0.16.4->tokenizers>=0.13.2->chromadb>=0.4.24->crewai) (3.13.1)\n",
      "Requirement already satisfied: fsspec>=2023.5.0 in /home/codespace/.local/lib/python3.12/site-packages (from huggingface-hub<1.0,>=0.16.4->tokenizers>=0.13.2->chromadb>=0.4.24->crewai) (2024.2.0)\n",
      "Requirement already satisfied: parso<0.9.0,>=0.8.3 in /home/codespace/.local/lib/python3.12/site-packages (from jedi>=0.16->ipython>=5.3.0->pyvis>=0.3.2->crewai) (0.8.4)\n",
      "Requirement already satisfied: jsonpointer>=1.9 in /home/codespace/.local/lib/python3.12/site-packages (from jsonpatch<2.0,>=1.33->langchain-core<0.4.0,>=0.3.15->langchain>=0.2.16->crewai) (3.0.0)\n",
      "Requirement already satisfied: langchain-experimental>=0.3.0 in /usr/local/python/3.12.1/lib/python3.12/site-packages (from langchain-cohere<0.4.0,>=0.3.0->embedchain>=0.1.114->crewai-tools>=0.14.0->crewai) (0.3.3)\n",
      "Requirement already satisfied: pandas>=1.4.3 in /home/codespace/.local/lib/python3.12/site-packages (from langchain-cohere<0.4.0,>=0.3.0->embedchain>=0.1.114->crewai-tools>=0.14.0->crewai) (2.2.3)\n",
      "Requirement already satisfied: tabulate<0.10.0,>=0.9.0 in /usr/local/python/3.12.1/lib/python3.12/site-packages (from langchain-cohere<0.4.0,>=0.3.0->embedchain>=0.1.114->crewai-tools>=0.14.0->crewai) (0.9.0)\n",
      "Collecting SQLAlchemy<3,>=1.4 (from langchain>=0.2.16->crewai)\n",
      "  Using cached SQLAlchemy-2.0.35-cp312-cp312-manylinux_2_17_x86_64.manylinux2014_x86_64.whl.metadata (9.6 kB)\n",
      "Requirement already satisfied: dataclasses-json<0.7,>=0.5.7 in /usr/local/python/3.12.1/lib/python3.12/site-packages (from langchain-community<0.4.0,>=0.3.1->embedchain>=0.1.114->crewai-tools>=0.14.0->crewai) (0.6.7)\n",
      "Requirement already satisfied: pydantic-settings<3.0.0,>=2.4.0 in /usr/local/python/3.12.1/lib/python3.12/site-packages (from langchain-community<0.4.0,>=0.3.1->embedchain>=0.1.114->crewai-tools>=0.14.0->crewai) (2.6.1)\n",
      "Requirement already satisfied: mdurl~=0.1 in /usr/local/python/3.12.1/lib/python3.12/site-packages (from markdown-it-py>=2.2.0->rich>=10.11.0->chromadb>=0.4.24->crewai) (0.1.2)\n",
      "Requirement already satisfied: pytz<2025.0,>=2024.1 in /home/codespace/.local/lib/python3.12/site-packages (from mem0ai<0.2.0,>=0.1.29->embedchain>=0.1.114->crewai-tools>=0.14.0->crewai) (2024.2)\n",
      "Requirement already satisfied: qdrant-client<2.0.0,>=1.9.1 in /usr/local/python/3.12.1/lib/python3.12/site-packages (from mem0ai<0.2.0,>=0.1.29->embedchain>=0.1.114->crewai-tools>=0.14.0->crewai) (1.12.1)\n",
      "Requirement already satisfied: ptyprocess>=0.5 in /home/codespace/.local/lib/python3.12/site-packages (from pexpect>4.3->ipython>=5.3.0->pyvis>=0.3.2->crewai) (0.7.0)\n",
      "Requirement already satisfied: wcwidth in /home/codespace/.local/lib/python3.12/site-packages (from prompt-toolkit<3.1.0,>=3.0.41->ipython>=5.3.0->pyvis>=0.3.2->crewai) (0.2.13)\n",
      "Requirement already satisfied: sortedcontainers in /usr/local/python/3.12.1/lib/python3.12/site-packages (from trio~=0.17->selenium>=4.18.1->crewai-tools>=0.14.0->crewai) (2.4.0)\n",
      "Requirement already satisfied: outcome in /usr/local/python/3.12.1/lib/python3.12/site-packages (from trio~=0.17->selenium>=4.18.1->crewai-tools>=0.14.0->crewai) (1.3.0.post0)\n",
      "Requirement already satisfied: wsproto>=0.14 in /usr/local/python/3.12.1/lib/python3.12/site-packages (from trio-websocket~=0.9->selenium>=4.18.1->crewai-tools>=0.14.0->crewai) (1.2.0)\n",
      "Requirement already satisfied: pysocks!=1.5.7,<2.0,>=1.5.6 in /usr/local/python/3.12.1/lib/python3.12/site-packages (from urllib3[socks]<3,>=1.26->selenium>=4.18.1->crewai-tools>=0.14.0->crewai) (1.7.1)\n",
      "Requirement already satisfied: humanfriendly>=9.1 in /usr/local/python/3.12.1/lib/python3.12/site-packages (from coloredlogs->onnxruntime>=1.14.1->chromadb>=0.4.24->crewai) (10.0)\n",
      "Requirement already satisfied: executing>=1.2.0 in /home/codespace/.local/lib/python3.12/site-packages (from stack-data->ipython>=5.3.0->pyvis>=0.3.2->crewai) (2.1.0)\n",
      "Requirement already satisfied: asttokens>=2.1.0 in /home/codespace/.local/lib/python3.12/site-packages (from stack-data->ipython>=5.3.0->pyvis>=0.3.2->crewai) (2.4.1)\n",
      "Requirement already satisfied: pure-eval in /home/codespace/.local/lib/python3.12/site-packages (from stack-data->ipython>=5.3.0->pyvis>=0.3.2->crewai) (0.2.3)\n",
      "Requirement already satisfied: mpmath>=0.19 in /home/codespace/.local/lib/python3.12/site-packages (from sympy->onnxruntime>=1.14.1->chromadb>=0.4.24->crewai) (1.3.0)\n",
      "Requirement already satisfied: marshmallow<4.0.0,>=3.18.0 in /usr/local/python/3.12.1/lib/python3.12/site-packages (from dataclasses-json<0.7,>=0.5.7->langchain-community<0.4.0,>=0.3.1->embedchain>=0.1.114->crewai-tools>=0.14.0->crewai) (3.23.1)\n",
      "Requirement already satisfied: typing-inspect<1,>=0.4.0 in /usr/local/python/3.12.1/lib/python3.12/site-packages (from dataclasses-json<0.7,>=0.5.7->langchain-community<0.4.0,>=0.3.1->embedchain>=0.1.114->crewai-tools>=0.14.0->crewai) (0.9.0)\n",
      "Requirement already satisfied: grpcio-status<2.0.dev0,>=1.33.2 in /usr/local/python/3.12.1/lib/python3.12/site-packages (from google-api-core[grpc]!=2.0.*,!=2.1.*,!=2.2.*,!=2.3.*,!=2.4.*,!=2.5.*,!=2.6.*,!=2.7.*,<3.0.0dev,>=1.34.1->google-cloud-aiplatform<2.0.0,>=1.26.1->embedchain>=0.1.114->crewai-tools>=0.14.0->crewai) (1.67.1)\n",
      "Requirement already satisfied: google-cloud-core<3.0.0dev,>=2.4.1 in /usr/local/python/3.12.1/lib/python3.12/site-packages (from google-cloud-bigquery!=3.20.0,<4.0.0dev,>=1.15.0->google-cloud-aiplatform<2.0.0,>=1.26.1->embedchain>=0.1.114->crewai-tools>=0.14.0->crewai) (2.4.1)\n",
      "Requirement already satisfied: google-resumable-media<3.0dev,>=2.0.0 in /usr/local/python/3.12.1/lib/python3.12/site-packages (from google-cloud-bigquery!=3.20.0,<4.0.0dev,>=1.15.0->google-cloud-aiplatform<2.0.0,>=1.26.1->embedchain>=0.1.114->crewai-tools>=0.14.0->crewai) (2.7.2)\n",
      "Requirement already satisfied: grpc-google-iam-v1<1.0.0dev,>=0.12.4 in /usr/local/python/3.12.1/lib/python3.12/site-packages (from google-cloud-resource-manager<3.0.0dev,>=1.3.3->google-cloud-aiplatform<2.0.0,>=1.26.1->embedchain>=0.1.114->crewai-tools>=0.14.0->crewai) (0.13.1)\n",
      "Requirement already satisfied: google-crc32c<2.0dev,>=1.0 in /usr/local/python/3.12.1/lib/python3.12/site-packages (from google-cloud-storage<3.0.0dev,>=1.32.0->google-cloud-aiplatform<2.0.0,>=1.26.1->embedchain>=0.1.114->crewai-tools>=0.14.0->crewai) (1.6.0)\n",
      "Requirement already satisfied: tzdata>=2022.7 in /home/codespace/.local/lib/python3.12/site-packages (from pandas>=1.4.3->langchain-cohere<0.4.0,>=0.3.0->embedchain>=0.1.114->crewai-tools>=0.14.0->crewai) (2024.2)\n",
      "Requirement already satisfied: pyasn1<0.7.0,>=0.4.6 in /usr/local/python/3.12.1/lib/python3.12/site-packages (from pyasn1-modules>=0.2.1->google-auth>=1.0.1->kubernetes>=28.1.0->chromadb>=0.4.24->crewai) (0.6.1)\n",
      "Requirement already satisfied: grpcio-tools>=1.41.0 in /usr/local/python/3.12.1/lib/python3.12/site-packages (from qdrant-client<2.0.0,>=1.9.1->mem0ai<0.2.0,>=0.1.29->embedchain>=0.1.114->crewai-tools>=0.14.0->crewai) (1.67.1)\n",
      "Requirement already satisfied: portalocker<3.0.0,>=2.7.0 in /usr/local/python/3.12.1/lib/python3.12/site-packages (from qdrant-client<2.0.0,>=1.9.1->mem0ai<0.2.0,>=0.1.29->embedchain>=0.1.114->crewai-tools>=0.14.0->crewai) (2.10.1)\n",
      "Requirement already satisfied: setuptools in /home/codespace/.local/lib/python3.12/site-packages (from grpcio-tools>=1.41.0->qdrant-client<2.0.0,>=1.9.1->mem0ai<0.2.0,>=0.1.29->embedchain>=0.1.114->crewai-tools>=0.14.0->crewai) (75.1.0)\n",
      "Requirement already satisfied: h2<5,>=3 in /usr/local/python/3.12.1/lib/python3.12/site-packages (from httpx[http2]>=0.20.0->qdrant-client<2.0.0,>=1.9.1->mem0ai<0.2.0,>=0.1.29->embedchain>=0.1.114->crewai-tools>=0.14.0->crewai) (4.1.0)\n",
      "Requirement already satisfied: mypy-extensions>=0.3.0 in /usr/local/python/3.12.1/lib/python3.12/site-packages (from typing-inspect<1,>=0.4.0->dataclasses-json<0.7,>=0.5.7->langchain-community<0.4.0,>=0.3.1->embedchain>=0.1.114->crewai-tools>=0.14.0->crewai) (1.0.0)\n",
      "Requirement already satisfied: hyperframe<7,>=6.0 in /usr/local/python/3.12.1/lib/python3.12/site-packages (from h2<5,>=3->httpx[http2]>=0.20.0->qdrant-client<2.0.0,>=1.9.1->mem0ai<0.2.0,>=0.1.29->embedchain>=0.1.114->crewai-tools>=0.14.0->crewai) (6.0.1)\n",
      "Requirement already satisfied: hpack<5,>=4.0 in /usr/local/python/3.12.1/lib/python3.12/site-packages (from h2<5,>=3->httpx[http2]>=0.20.0->qdrant-client<2.0.0,>=1.9.1->mem0ai<0.2.0,>=0.1.29->embedchain>=0.1.114->crewai-tools>=0.14.0->crewai) (4.0.0)\n",
      "Using cached SQLAlchemy-2.0.35-cp312-cp312-manylinux_2_17_x86_64.manylinux2014_x86_64.whl (3.2 MB)\n",
      "Installing collected packages: SQLAlchemy\n",
      "  Attempting uninstall: SQLAlchemy\n",
      "    Found existing installation: SQLAlchemy 2.0.36\n",
      "    Uninstalling SQLAlchemy-2.0.36:\n",
      "      Successfully uninstalled SQLAlchemy-2.0.36\n",
      "Successfully installed SQLAlchemy-2.0.35\n",
      "Note: you may need to restart the kernel to use updated packages.\n"
     ]
    }
   ],
   "source": [
    "%pip install crewai --upgrade"
   ]
  },
  {
   "cell_type": "code",
   "execution_count": 17,
   "metadata": {
    "colab": {
     "base_uri": "https://localhost:8080/"
    },
    "id": "9oNVOnkn4Kox",
    "outputId": "a3173b1e-c7ec-4b31-ac11-e6b70173c12b"
   },
   "outputs": [
    {
     "name": "stdout",
     "output_type": "stream",
     "text": [
      "Requirement already satisfied: sqlalchemy in /usr/local/python/3.12.1/lib/python3.12/site-packages (2.0.35)\n",
      "Collecting sqlalchemy\n",
      "  Using cached SQLAlchemy-2.0.36-cp312-cp312-manylinux_2_17_x86_64.manylinux2014_x86_64.whl.metadata (9.7 kB)\n",
      "Requirement already satisfied: typing-extensions>=4.6.0 in /usr/local/python/3.12.1/lib/python3.12/site-packages (from sqlalchemy) (4.12.2)\n",
      "Requirement already satisfied: greenlet!=0.4.17 in /usr/local/python/3.12.1/lib/python3.12/site-packages (from sqlalchemy) (3.1.1)\n",
      "Downloading SQLAlchemy-2.0.36-cp312-cp312-manylinux_2_17_x86_64.manylinux2014_x86_64.whl (3.2 MB)\n",
      "\u001b[2K   \u001b[90m━━━━━━━━━━━━━━━━━━━━━━━━━━━━━━━━━━━━━━━━\u001b[0m \u001b[32m3.2/3.2 MB\u001b[0m \u001b[31m61.2 MB/s\u001b[0m eta \u001b[36m0:00:00\u001b[0m\n",
      "\u001b[?25hInstalling collected packages: sqlalchemy\n",
      "  Attempting uninstall: sqlalchemy\n",
      "    Found existing installation: SQLAlchemy 2.0.35\n",
      "    Uninstalling SQLAlchemy-2.0.35:\n",
      "      Successfully uninstalled SQLAlchemy-2.0.35\n",
      "\u001b[31mERROR: pip's dependency resolver does not currently take into account all the packages that are installed. This behaviour is the source of the following dependency conflicts.\n",
      "langchain-community 0.3.7 requires SQLAlchemy<2.0.36,>=1.4, but you have sqlalchemy 2.0.36 which is incompatible.\u001b[0m\u001b[31m\n",
      "\u001b[0mSuccessfully installed sqlalchemy-2.0.36\n",
      "Note: you may need to restart the kernel to use updated packages.\n"
     ]
    }
   ],
   "source": [
    "\n",
    "%pip install sqlalchemy --upgrade"
   ]
  },
  {
   "cell_type": "code",
   "execution_count": null,
   "metadata": {},
   "outputs": [],
   "source": []
  },
  {
   "cell_type": "code",
   "execution_count": 13,
   "metadata": {},
   "outputs": [
    {
     "ename": "RuntimeError",
     "evalue": "\u001b[91mYour system has an unsupported version of sqlite3. Chroma                     requires sqlite3 >= 3.35.0.\u001b[0m\n\u001b[94mPlease visit                     https://docs.trychroma.com/troubleshooting#sqlite to learn how                     to upgrade.\u001b[0m",
     "output_type": "error",
     "traceback": [
      "\u001b[0;31m---------------------------------------------------------------------------\u001b[0m",
      "\u001b[0;31mRuntimeError\u001b[0m                              Traceback (most recent call last)",
      "Cell \u001b[0;32mIn[13], line 1\u001b[0m\n\u001b[0;32m----> 1\u001b[0m \u001b[38;5;28;01mfrom\u001b[39;00m \u001b[38;5;21;01mcrewai\u001b[39;00m \u001b[38;5;28;01mimport\u001b[39;00m Agent, Task, Crew\n",
      "File \u001b[0;32m/usr/local/python/3.12.1/lib/python3.12/site-packages/crewai/__init__.py:2\u001b[0m\n\u001b[1;32m      1\u001b[0m \u001b[38;5;28;01mimport\u001b[39;00m \u001b[38;5;21;01mwarnings\u001b[39;00m\n\u001b[0;32m----> 2\u001b[0m \u001b[38;5;28;01mfrom\u001b[39;00m \u001b[38;5;21;01mcrewai\u001b[39;00m\u001b[38;5;21;01m.\u001b[39;00m\u001b[38;5;21;01magent\u001b[39;00m \u001b[38;5;28;01mimport\u001b[39;00m Agent\n\u001b[1;32m      3\u001b[0m \u001b[38;5;28;01mfrom\u001b[39;00m \u001b[38;5;21;01mcrewai\u001b[39;00m\u001b[38;5;21;01m.\u001b[39;00m\u001b[38;5;21;01mcrew\u001b[39;00m \u001b[38;5;28;01mimport\u001b[39;00m Crew\n\u001b[1;32m      4\u001b[0m \u001b[38;5;28;01mfrom\u001b[39;00m \u001b[38;5;21;01mcrewai\u001b[39;00m\u001b[38;5;21;01m.\u001b[39;00m\u001b[38;5;21;01mflow\u001b[39;00m\u001b[38;5;21;01m.\u001b[39;00m\u001b[38;5;21;01mflow\u001b[39;00m \u001b[38;5;28;01mimport\u001b[39;00m Flow\n",
      "File \u001b[0;32m/usr/local/python/3.12.1/lib/python3.12/site-packages/crewai/agent.py:10\u001b[0m\n\u001b[1;32m      8\u001b[0m \u001b[38;5;28;01mfrom\u001b[39;00m \u001b[38;5;21;01mcrewai\u001b[39;00m\u001b[38;5;21;01m.\u001b[39;00m\u001b[38;5;21;01magents\u001b[39;00m \u001b[38;5;28;01mimport\u001b[39;00m CacheHandler\n\u001b[1;32m      9\u001b[0m \u001b[38;5;28;01mfrom\u001b[39;00m \u001b[38;5;21;01mcrewai\u001b[39;00m\u001b[38;5;21;01m.\u001b[39;00m\u001b[38;5;21;01magents\u001b[39;00m\u001b[38;5;21;01m.\u001b[39;00m\u001b[38;5;21;01magent_builder\u001b[39;00m\u001b[38;5;21;01m.\u001b[39;00m\u001b[38;5;21;01mbase_agent\u001b[39;00m \u001b[38;5;28;01mimport\u001b[39;00m BaseAgent\n\u001b[0;32m---> 10\u001b[0m \u001b[38;5;28;01mfrom\u001b[39;00m \u001b[38;5;21;01mcrewai\u001b[39;00m\u001b[38;5;21;01m.\u001b[39;00m\u001b[38;5;21;01magents\u001b[39;00m\u001b[38;5;21;01m.\u001b[39;00m\u001b[38;5;21;01mcrew_agent_executor\u001b[39;00m \u001b[38;5;28;01mimport\u001b[39;00m CrewAgentExecutor\n\u001b[1;32m     11\u001b[0m \u001b[38;5;28;01mfrom\u001b[39;00m \u001b[38;5;21;01mcrewai\u001b[39;00m\u001b[38;5;21;01m.\u001b[39;00m\u001b[38;5;21;01mcli\u001b[39;00m\u001b[38;5;21;01m.\u001b[39;00m\u001b[38;5;21;01mconstants\u001b[39;00m \u001b[38;5;28;01mimport\u001b[39;00m ENV_VARS\n\u001b[1;32m     12\u001b[0m \u001b[38;5;28;01mfrom\u001b[39;00m \u001b[38;5;21;01mcrewai\u001b[39;00m\u001b[38;5;21;01m.\u001b[39;00m\u001b[38;5;21;01mllm\u001b[39;00m \u001b[38;5;28;01mimport\u001b[39;00m LLM\n",
      "File \u001b[0;32m/usr/local/python/3.12.1/lib/python3.12/site-packages/crewai/agents/crew_agent_executor.py:6\u001b[0m\n\u001b[1;32m      3\u001b[0m \u001b[38;5;28;01mfrom\u001b[39;00m \u001b[38;5;21;01mtyping\u001b[39;00m \u001b[38;5;28;01mimport\u001b[39;00m Any, Dict, List, Union\n\u001b[1;32m      5\u001b[0m \u001b[38;5;28;01mfrom\u001b[39;00m \u001b[38;5;21;01mcrewai\u001b[39;00m\u001b[38;5;21;01m.\u001b[39;00m\u001b[38;5;21;01magents\u001b[39;00m\u001b[38;5;21;01m.\u001b[39;00m\u001b[38;5;21;01magent_builder\u001b[39;00m\u001b[38;5;21;01m.\u001b[39;00m\u001b[38;5;21;01mbase_agent\u001b[39;00m \u001b[38;5;28;01mimport\u001b[39;00m BaseAgent\n\u001b[0;32m----> 6\u001b[0m \u001b[38;5;28;01mfrom\u001b[39;00m \u001b[38;5;21;01mcrewai\u001b[39;00m\u001b[38;5;21;01m.\u001b[39;00m\u001b[38;5;21;01magents\u001b[39;00m\u001b[38;5;21;01m.\u001b[39;00m\u001b[38;5;21;01magent_builder\u001b[39;00m\u001b[38;5;21;01m.\u001b[39;00m\u001b[38;5;21;01mbase_agent_executor_mixin\u001b[39;00m \u001b[38;5;28;01mimport\u001b[39;00m CrewAgentExecutorMixin\n\u001b[1;32m      7\u001b[0m \u001b[38;5;28;01mfrom\u001b[39;00m \u001b[38;5;21;01mcrewai\u001b[39;00m\u001b[38;5;21;01m.\u001b[39;00m\u001b[38;5;21;01magents\u001b[39;00m\u001b[38;5;21;01m.\u001b[39;00m\u001b[38;5;21;01mparser\u001b[39;00m \u001b[38;5;28;01mimport\u001b[39;00m (\n\u001b[1;32m      8\u001b[0m     FINAL_ANSWER_AND_PARSABLE_ACTION_ERROR_MESSAGE,\n\u001b[1;32m      9\u001b[0m     AgentAction,\n\u001b[0;32m   (...)\u001b[0m\n\u001b[1;32m     12\u001b[0m     OutputParserException,\n\u001b[1;32m     13\u001b[0m )\n\u001b[1;32m     14\u001b[0m \u001b[38;5;28;01mfrom\u001b[39;00m \u001b[38;5;21;01mcrewai\u001b[39;00m\u001b[38;5;21;01m.\u001b[39;00m\u001b[38;5;21;01magents\u001b[39;00m\u001b[38;5;21;01m.\u001b[39;00m\u001b[38;5;21;01mtools_handler\u001b[39;00m \u001b[38;5;28;01mimport\u001b[39;00m ToolsHandler\n",
      "File \u001b[0;32m/usr/local/python/3.12.1/lib/python3.12/site-packages/crewai/agents/agent_builder/base_agent_executor_mixin.py:5\u001b[0m\n\u001b[1;32m      2\u001b[0m \u001b[38;5;28;01mfrom\u001b[39;00m \u001b[38;5;21;01mtyping\u001b[39;00m \u001b[38;5;28;01mimport\u001b[39;00m TYPE_CHECKING, Optional\n\u001b[1;32m      4\u001b[0m \u001b[38;5;28;01mfrom\u001b[39;00m \u001b[38;5;21;01mcrewai\u001b[39;00m\u001b[38;5;21;01m.\u001b[39;00m\u001b[38;5;21;01mmemory\u001b[39;00m\u001b[38;5;21;01m.\u001b[39;00m\u001b[38;5;21;01mentity\u001b[39;00m\u001b[38;5;21;01m.\u001b[39;00m\u001b[38;5;21;01mentity_memory_item\u001b[39;00m \u001b[38;5;28;01mimport\u001b[39;00m EntityMemoryItem\n\u001b[0;32m----> 5\u001b[0m \u001b[38;5;28;01mfrom\u001b[39;00m \u001b[38;5;21;01mcrewai\u001b[39;00m\u001b[38;5;21;01m.\u001b[39;00m\u001b[38;5;21;01mmemory\u001b[39;00m\u001b[38;5;21;01m.\u001b[39;00m\u001b[38;5;21;01mlong_term\u001b[39;00m\u001b[38;5;21;01m.\u001b[39;00m\u001b[38;5;21;01mlong_term_memory_item\u001b[39;00m \u001b[38;5;28;01mimport\u001b[39;00m LongTermMemoryItem\n\u001b[1;32m      6\u001b[0m \u001b[38;5;28;01mfrom\u001b[39;00m \u001b[38;5;21;01mcrewai\u001b[39;00m\u001b[38;5;21;01m.\u001b[39;00m\u001b[38;5;21;01mutilities\u001b[39;00m\u001b[38;5;21;01m.\u001b[39;00m\u001b[38;5;21;01mconverter\u001b[39;00m \u001b[38;5;28;01mimport\u001b[39;00m ConverterError\n\u001b[1;32m      7\u001b[0m \u001b[38;5;28;01mfrom\u001b[39;00m \u001b[38;5;21;01mcrewai\u001b[39;00m\u001b[38;5;21;01m.\u001b[39;00m\u001b[38;5;21;01mutilities\u001b[39;00m\u001b[38;5;21;01m.\u001b[39;00m\u001b[38;5;21;01mevaluators\u001b[39;00m\u001b[38;5;21;01m.\u001b[39;00m\u001b[38;5;21;01mtask_evaluator\u001b[39;00m \u001b[38;5;28;01mimport\u001b[39;00m TaskEvaluator\n",
      "File \u001b[0;32m/usr/local/python/3.12.1/lib/python3.12/site-packages/crewai/memory/__init__.py:1\u001b[0m\n\u001b[0;32m----> 1\u001b[0m \u001b[38;5;28;01mfrom\u001b[39;00m \u001b[38;5;21;01m.\u001b[39;00m\u001b[38;5;21;01mentity\u001b[39;00m\u001b[38;5;21;01m.\u001b[39;00m\u001b[38;5;21;01mentity_memory\u001b[39;00m \u001b[38;5;28;01mimport\u001b[39;00m EntityMemory\n\u001b[1;32m      2\u001b[0m \u001b[38;5;28;01mfrom\u001b[39;00m \u001b[38;5;21;01m.\u001b[39;00m\u001b[38;5;21;01mlong_term\u001b[39;00m\u001b[38;5;21;01m.\u001b[39;00m\u001b[38;5;21;01mlong_term_memory\u001b[39;00m \u001b[38;5;28;01mimport\u001b[39;00m LongTermMemory\n\u001b[1;32m      3\u001b[0m \u001b[38;5;28;01mfrom\u001b[39;00m \u001b[38;5;21;01m.\u001b[39;00m\u001b[38;5;21;01mshort_term\u001b[39;00m\u001b[38;5;21;01m.\u001b[39;00m\u001b[38;5;21;01mshort_term_memory\u001b[39;00m \u001b[38;5;28;01mimport\u001b[39;00m ShortTermMemory\n",
      "File \u001b[0;32m/usr/local/python/3.12.1/lib/python3.12/site-packages/crewai/memory/entity/entity_memory.py:2\u001b[0m\n\u001b[1;32m      1\u001b[0m \u001b[38;5;28;01mfrom\u001b[39;00m \u001b[38;5;21;01mcrewai\u001b[39;00m\u001b[38;5;21;01m.\u001b[39;00m\u001b[38;5;21;01mmemory\u001b[39;00m\u001b[38;5;21;01m.\u001b[39;00m\u001b[38;5;21;01mentity\u001b[39;00m\u001b[38;5;21;01m.\u001b[39;00m\u001b[38;5;21;01mentity_memory_item\u001b[39;00m \u001b[38;5;28;01mimport\u001b[39;00m EntityMemoryItem\n\u001b[0;32m----> 2\u001b[0m \u001b[38;5;28;01mfrom\u001b[39;00m \u001b[38;5;21;01mcrewai\u001b[39;00m\u001b[38;5;21;01m.\u001b[39;00m\u001b[38;5;21;01mmemory\u001b[39;00m\u001b[38;5;21;01m.\u001b[39;00m\u001b[38;5;21;01mmemory\u001b[39;00m \u001b[38;5;28;01mimport\u001b[39;00m Memory\n\u001b[1;32m      3\u001b[0m \u001b[38;5;28;01mfrom\u001b[39;00m \u001b[38;5;21;01mcrewai\u001b[39;00m\u001b[38;5;21;01m.\u001b[39;00m\u001b[38;5;21;01mmemory\u001b[39;00m\u001b[38;5;21;01m.\u001b[39;00m\u001b[38;5;21;01mstorage\u001b[39;00m\u001b[38;5;21;01m.\u001b[39;00m\u001b[38;5;21;01mrag_storage\u001b[39;00m \u001b[38;5;28;01mimport\u001b[39;00m RAGStorage\n\u001b[1;32m      6\u001b[0m \u001b[38;5;28;01mclass\u001b[39;00m \u001b[38;5;21;01mEntityMemory\u001b[39;00m(Memory):\n",
      "File \u001b[0;32m/usr/local/python/3.12.1/lib/python3.12/site-packages/crewai/memory/memory.py:3\u001b[0m\n\u001b[1;32m      1\u001b[0m \u001b[38;5;28;01mfrom\u001b[39;00m \u001b[38;5;21;01mtyping\u001b[39;00m \u001b[38;5;28;01mimport\u001b[39;00m Any, Dict, Optional, List\n\u001b[0;32m----> 3\u001b[0m \u001b[38;5;28;01mfrom\u001b[39;00m \u001b[38;5;21;01mcrewai\u001b[39;00m\u001b[38;5;21;01m.\u001b[39;00m\u001b[38;5;21;01mmemory\u001b[39;00m\u001b[38;5;21;01m.\u001b[39;00m\u001b[38;5;21;01mstorage\u001b[39;00m\u001b[38;5;21;01m.\u001b[39;00m\u001b[38;5;21;01mrag_storage\u001b[39;00m \u001b[38;5;28;01mimport\u001b[39;00m RAGStorage\n\u001b[1;32m      6\u001b[0m \u001b[38;5;28;01mclass\u001b[39;00m \u001b[38;5;21;01mMemory\u001b[39;00m:\n\u001b[1;32m      7\u001b[0m \u001b[38;5;250m    \u001b[39m\u001b[38;5;124;03m\"\"\"\u001b[39;00m\n\u001b[1;32m      8\u001b[0m \u001b[38;5;124;03m    Base class for memory, now supporting agent tags and generic metadata.\u001b[39;00m\n\u001b[1;32m      9\u001b[0m \u001b[38;5;124;03m    \"\"\"\u001b[39;00m\n",
      "File \u001b[0;32m/usr/local/python/3.12.1/lib/python3.12/site-packages/crewai/memory/storage/rag_storage.py:9\u001b[0m\n\u001b[1;32m      6\u001b[0m \u001b[38;5;28;01mimport\u001b[39;00m \u001b[38;5;21;01muuid\u001b[39;00m\n\u001b[1;32m      7\u001b[0m \u001b[38;5;28;01mfrom\u001b[39;00m \u001b[38;5;21;01mtyping\u001b[39;00m \u001b[38;5;28;01mimport\u001b[39;00m Any, Dict, List, Optional, cast\n\u001b[0;32m----> 9\u001b[0m \u001b[38;5;28;01mfrom\u001b[39;00m \u001b[38;5;21;01mchromadb\u001b[39;00m \u001b[38;5;28;01mimport\u001b[39;00m Documents, EmbeddingFunction, Embeddings\n\u001b[1;32m     10\u001b[0m \u001b[38;5;28;01mfrom\u001b[39;00m \u001b[38;5;21;01mchromadb\u001b[39;00m\u001b[38;5;21;01m.\u001b[39;00m\u001b[38;5;21;01mapi\u001b[39;00m \u001b[38;5;28;01mimport\u001b[39;00m ClientAPI\n\u001b[1;32m     11\u001b[0m \u001b[38;5;28;01mfrom\u001b[39;00m \u001b[38;5;21;01mchromadb\u001b[39;00m\u001b[38;5;21;01m.\u001b[39;00m\u001b[38;5;21;01mapi\u001b[39;00m\u001b[38;5;21;01m.\u001b[39;00m\u001b[38;5;21;01mtypes\u001b[39;00m \u001b[38;5;28;01mimport\u001b[39;00m validate_embedding_function\n",
      "File \u001b[0;32m/usr/local/python/3.12.1/lib/python3.12/site-packages/chromadb/__init__.py:86\u001b[0m\n\u001b[1;32m     84\u001b[0m             sys\u001b[38;5;241m.\u001b[39mmodules[\u001b[38;5;124m\"\u001b[39m\u001b[38;5;124msqlite3\u001b[39m\u001b[38;5;124m\"\u001b[39m] \u001b[38;5;241m=\u001b[39m sys\u001b[38;5;241m.\u001b[39mmodules\u001b[38;5;241m.\u001b[39mpop(\u001b[38;5;124m\"\u001b[39m\u001b[38;5;124mpysqlite3\u001b[39m\u001b[38;5;124m\"\u001b[39m)\n\u001b[1;32m     85\u001b[0m         \u001b[38;5;28;01melse\u001b[39;00m:\n\u001b[0;32m---> 86\u001b[0m             \u001b[38;5;28;01mraise\u001b[39;00m \u001b[38;5;167;01mRuntimeError\u001b[39;00m(\n\u001b[1;32m     87\u001b[0m                 \u001b[38;5;124m\"\u001b[39m\u001b[38;5;130;01m\\033\u001b[39;00m\u001b[38;5;124m[91mYour system has an unsupported version of sqlite3. Chroma \u001b[39m\u001b[38;5;130;01m\\\u001b[39;00m\n\u001b[1;32m     88\u001b[0m \u001b[38;5;124m                    requires sqlite3 >= 3.35.0.\u001b[39m\u001b[38;5;130;01m\\033\u001b[39;00m\u001b[38;5;124m[0m\u001b[39m\u001b[38;5;130;01m\\n\u001b[39;00m\u001b[38;5;124m\"\u001b[39m\n\u001b[1;32m     89\u001b[0m                 \u001b[38;5;124m\"\u001b[39m\u001b[38;5;130;01m\\033\u001b[39;00m\u001b[38;5;124m[94mPlease visit \u001b[39m\u001b[38;5;130;01m\\\u001b[39;00m\n\u001b[1;32m     90\u001b[0m \u001b[38;5;124m                    https://docs.trychroma.com/troubleshooting#sqlite to learn how \u001b[39m\u001b[38;5;130;01m\\\u001b[39;00m\n\u001b[1;32m     91\u001b[0m \u001b[38;5;124m                    to upgrade.\u001b[39m\u001b[38;5;130;01m\\033\u001b[39;00m\u001b[38;5;124m[0m\u001b[39m\u001b[38;5;124m\"\u001b[39m\n\u001b[1;32m     92\u001b[0m             )\n\u001b[1;32m     95\u001b[0m \u001b[38;5;28;01mdef\u001b[39;00m \u001b[38;5;21mconfigure\u001b[39m(\u001b[38;5;241m*\u001b[39m\u001b[38;5;241m*\u001b[39mkwargs) \u001b[38;5;241m-\u001b[39m\u001b[38;5;241m>\u001b[39m \u001b[38;5;28;01mNone\u001b[39;00m:  \u001b[38;5;66;03m# type: ignore\u001b[39;00m\n\u001b[1;32m     96\u001b[0m \u001b[38;5;250m    \u001b[39m\u001b[38;5;124;03m\"\"\"Override Chroma's default settings, environment variables or .env files\"\"\"\u001b[39;00m\n",
      "\u001b[0;31mRuntimeError\u001b[0m: \u001b[91mYour system has an unsupported version of sqlite3. Chroma                     requires sqlite3 >= 3.35.0.\u001b[0m\n\u001b[94mPlease visit                     https://docs.trychroma.com/troubleshooting#sqlite to learn how                     to upgrade.\u001b[0m"
     ]
    }
   ],
   "source": [
    "from crewai import Agent, Task, Crew"
   ]
  },
  {
   "cell_type": "code",
   "execution_count": 3,
   "metadata": {
    "colab": {
     "base_uri": "https://localhost:8080/"
    },
    "id": "22LCLVib4cKv",
    "outputId": "d668334f-1b46-418d-f1f7-01e3e6052b30"
   },
   "outputs": [
    {
     "name": "stdout",
     "output_type": "stream",
     "text": [
      "Requirement already satisfied: duckduckgo-search in /usr/local/python/3.12.1/lib/python3.12/site-packages (6.3.3)\n",
      "Collecting duckduckgo-search\n",
      "  Downloading duckduckgo_search-6.3.5-py3-none-any.whl.metadata (25 kB)\n",
      "Requirement already satisfied: click>=8.1.7 in /usr/local/python/3.12.1/lib/python3.12/site-packages (from duckduckgo-search) (8.1.7)\n",
      "Requirement already satisfied: primp>=0.6.5 in /usr/local/python/3.12.1/lib/python3.12/site-packages (from duckduckgo-search) (0.6.5)\n",
      "Downloading duckduckgo_search-6.3.5-py3-none-any.whl (27 kB)\n",
      "Installing collected packages: duckduckgo-search\n",
      "  Attempting uninstall: duckduckgo-search\n",
      "    Found existing installation: duckduckgo_search 6.3.3\n",
      "    Uninstalling duckduckgo_search-6.3.3:\n",
      "      Successfully uninstalled duckduckgo_search-6.3.3\n",
      "Successfully installed duckduckgo-search-6.3.5\n",
      "\n",
      "\u001b[1m[\u001b[0m\u001b[34;49mnotice\u001b[0m\u001b[1;39;49m]\u001b[0m\u001b[39;49m A new release of pip is available: \u001b[0m\u001b[31;49m24.2\u001b[0m\u001b[39;49m -> \u001b[0m\u001b[32;49m24.3.1\u001b[0m\n",
      "\u001b[1m[\u001b[0m\u001b[34;49mnotice\u001b[0m\u001b[1;39;49m]\u001b[0m\u001b[39;49m To update, run: \u001b[0m\u001b[32;49mpython3 -m pip install --upgrade pip\u001b[0m\n"
     ]
    }
   ],
   "source": [
    "!pip install -U duckduckgo-search"
   ]
  },
  {
   "cell_type": "code",
   "execution_count": 10,
   "metadata": {
    "colab": {
     "base_uri": "https://localhost:8080/",
     "height": 383
    },
    "id": "QpVatABO7pvo",
    "outputId": "95b009be-ff92-4c37-a378-590ad1fc8148"
   },
   "outputs": [],
   "source": [
    "from crewai import Agent, Task, Crew\n",
    "from langchain_community.tools import DuckDuckGoSearchRun\n",
    "from crewai_tools import (\n",
    "  FileReadTool,\n",
    "  ScrapeWebsiteTool,\n",
    "  MDXSearchTool,\n",
    "  SerperDevTool\n",
    ")\n",
    "\n",
    "search_tool = SerperDevTool()\n",
    "scrape_tool = ScrapeWebsiteTool()"
   ]
  },
  {
   "cell_type": "code",
   "execution_count": 11,
   "metadata": {},
   "outputs": [],
   "source": [
    "import os\n",
    "\n",
    "os.environ[\"OPENAI_API_KEY\"] = \"secNbxX4Pg4wp8rscewBm1kSis1tFimU\"\n",
    "os.environ[\"OPENAI_API_BASE\"] = \"https://Phi-3-5-mini-instruct-iplvi.eastus2.models.ai.azure.com/chat/completions\"\n",
    "os.environ[\"OPENAI_MODEL_NAME\"] = \"Phi-3-5-mini-instruct-iplvi\""
   ]
  },
  {
   "cell_type": "code",
   "execution_count": 30,
   "metadata": {
    "colab": {
     "base_uri": "https://localhost:8080/"
    },
    "id": "KuyjFQD7G2ft",
    "outputId": "f4489f03-4e48-45b6-eb06-60c14f010081"
   },
   "outputs": [
    {
     "name": "stdout",
     "output_type": "stream",
     "text": [
      "Response: {'choices': [{'finish_reason': 'length', 'index': 0, 'message': {'content': \" Hello! To use an API (Application Programming Interface), you typically need to follow these steps:\\n\\n1. **Read the API Documentation:**\\n   - Find the official documentation for the API. This will provide you with all the necessary information about how to interact with the API, including endpoints, request methods, parameters, authentication, response formats, and more.\\n\\n2. **Understand the API's Endpoints:**\\n   - Identify which endpoints\", 'role': 'assistant', 'tool_calls': []}}], 'created': 1731699455, 'id': 'chat-f5bd8e27884242c7b6356d82f709949a', 'model': 'phi35-mini-instruct', 'object': 'chat.completion', 'usage': {'completion_tokens': 100, 'prompt_tokens': 20, 'total_tokens': 120}}\n"
     ]
    }
   ],
   "source": [
    "import requests\n",
    "\n",
    "# Define the API endpoint and headers\n",
    "api_endpoint = \"https://Phi-3-5-mini-instruct-iplvi.eastus2.models.ai.azure.com/chat/completions\"\n",
    "api_key = \"secNbxX4Pg4wp8rscewBm1kSis1tFimU\"  # Replace with your Azure API key\n",
    "\n",
    "headers = {\n",
    "    \"Content-Type\": \"application/json\",\n",
    "    \"Authorization\": f\"Bearer {api_key}\",\n",
    "    \"api-version\": \"2023-05-15\"  # Update this if a newer version is available\n",
    "}\n",
    "\n",
    "# Define the request payload\n",
    "payload = {\n",
    "    \"messages\": [\n",
    "        {\"role\": \"system\", \"content\": \"You are a helpful assistant.\"},\n",
    "        {\"role\": \"user\", \"content\": \"Hello! How can I use this API?\"}\n",
    "    ],\n",
    "    \"max_tokens\": 100,\n",
    "    \"temperature\": 0.7,\n",
    "    \"top_p\": 0.95\n",
    "}\n",
    "\n",
    "# Make the POST request\n",
    "response = requests.post(api_endpoint, json=payload, headers=headers)\n",
    "\n",
    "# Handle the response\n",
    "if response.status_code == 200:\n",
    "    result = response.json()\n",
    "    print(\"Response:\", result)\n",
    "else:\n",
    "    print(f\"Error: {response.status_code}, {response.text}\")\n"
   ]
  },
  {
   "cell_type": "code",
   "execution_count": 16,
   "metadata": {
    "id": "xuGc5PrAHz8Z"
   },
   "outputs": [],
   "source": [
    "planner = Agent(\n",
    "    role=\"Content Planner\",\n",
    "    goal=\"Plan engaging and factually accurate content on {topic}\",\n",
    "    backstory=\"You're working on planning a blog article \"\n",
    "              \"about the topic: {topic}.\"\n",
    "              \"You collect information that helps the \"\n",
    "              \"audience learn something \"\n",
    "              \"and make informed decisions. \"\n",
    "              \"Your work is the basis for \"\n",
    "              \"the Content Writer to write an article on this topic.\",\n",
    "    allow_delegation=False,\n",
    "\tverbose=True\n",
    ")"
   ]
  },
  {
   "cell_type": "code",
   "execution_count": 17,
   "metadata": {},
   "outputs": [],
   "source": [
    "writer = Agent(\n",
    "    role=\"Content Writer\",\n",
    "    goal=\"Write insightful and factually accurate \"\n",
    "         \"opinion piece about the topic: {topic}\",\n",
    "    backstory=\"You're working on a writing \"\n",
    "              \"a new opinion piece about the topic: {topic}. \"\n",
    "              \"You base your writing on the work of \"\n",
    "              \"the Content Planner, who provides an outline \"\n",
    "              \"and relevant context about the topic. \"\n",
    "              \"You follow the main objectives and \"\n",
    "              \"direction of the outline, \"\n",
    "              \"as provide by the Content Planner. \"\n",
    "              \"You also provide objective and impartial insights \"\n",
    "              \"and back them up with information \"\n",
    "              \"provide by the Content Planner. \"\n",
    "              \"You acknowledge in your opinion piece \"\n",
    "              \"when your statements are opinions \"\n",
    "              \"as opposed to objective statements.\",\n",
    "    allow_delegation=False,\n",
    "    verbose=True\n",
    ")"
   ]
  },
  {
   "cell_type": "code",
   "execution_count": 18,
   "metadata": {},
   "outputs": [],
   "source": [
    "editor = Agent(\n",
    "    role=\"Editor\",\n",
    "    goal=\"Edit a given blog post to align with \"\n",
    "         \"the writing style of the organization. \",\n",
    "    backstory=\"You are an editor who receives a blog post \"\n",
    "              \"from the Content Writer. \"\n",
    "              \"Your goal is to review the blog post \"\n",
    "              \"to ensure that it follows journalistic best practices,\"\n",
    "              \"provides balanced viewpoints \"\n",
    "              \"when providing opinions or assertions, \"\n",
    "              \"and also avoids major controversial topics \"\n",
    "              \"or opinions when possible.\",\n",
    "    allow_delegation=False,\n",
    "    verbose=True\n",
    ")"
   ]
  },
  {
   "cell_type": "code",
   "execution_count": 19,
   "metadata": {},
   "outputs": [],
   "source": [
    "plan = Task(\n",
    "    description=(\n",
    "        \"1. Prioritize the latest trends, key players, \"\n",
    "            \"and noteworthy news on {topic}.\\n\"\n",
    "        \"2. Identify the target audience, considering \"\n",
    "            \"their interests and pain points.\\n\"\n",
    "        \"3. Develop a detailed content outline including \"\n",
    "            \"an introduction, key points, and a call to action.\\n\"\n",
    "        \"4. Include SEO keywords and relevant data or sources.\"\n",
    "    ),\n",
    "    expected_output=\"A comprehensive content plan document \"\n",
    "        \"with an outline, audience analysis, \"\n",
    "        \"SEO keywords, and resources.\",\n",
    "    agent=planner,\n",
    ")"
   ]
  },
  {
   "cell_type": "code",
   "execution_count": 26,
   "metadata": {},
   "outputs": [],
   "source": [
    "write = Task(\n",
    "    description=(\n",
    "        \"1. Use the content plan to craft a compelling \"\n",
    "            \"blog post on {topic}.\\n\"\n",
    "        \"2. Incorporate SEO keywords naturally.\\n\"\n",
    "\t\t\"3. Sections/Subtitles are properly named \"\n",
    "            \"in an engaging manner.\\n\"\n",
    "        \"4. Ensure the post is structured with an \"\n",
    "            \"engaging introduction, insightful body, \"\n",
    "            \"and a summarizing conclusion.\\n\"\n",
    "        \"5. Proofread for grammatical errors and \"\n",
    "            \"alignment with the brand's voice.\\n\"\n",
    "    ),\n",
    "    expected_output=\"A well-written blog post \"\n",
    "        \"in markdown format, ready for publication, \"\n",
    "        \"each section should have 2 or 3 paragraphs.\",\n",
    "    agent=writer,\n",
    ")"
   ]
  },
  {
   "cell_type": "code",
   "execution_count": 27,
   "metadata": {},
   "outputs": [],
   "source": [
    "edit = Task(\n",
    "    description=(\"Proofread the given blog post for \"\n",
    "                 \"grammatical errors and \"\n",
    "                 \"alignment with the brand's voice.\"),\n",
    "    expected_output=\"A well-written blog post in markdown format, \"\n",
    "                    \"ready for publication, \"\n",
    "                    \"each section should have 2 or 3 paragraphs.\",\n",
    "    agent=editor\n",
    ")"
   ]
  },
  {
   "cell_type": "code",
   "execution_count": 28,
   "metadata": {},
   "outputs": [],
   "source": [
    "crew = Crew(\n",
    "    agents=[planner, writer, editor],\n",
    "    tasks=[plan, write, edit],\n",
    "    verbose=2\n",
    ")"
   ]
  },
  {
   "cell_type": "code",
   "execution_count": 29,
   "metadata": {},
   "outputs": [
    {
     "name": "stdout",
     "output_type": "stream",
     "text": [
      "\u001b[1m\u001b[95m [DEBUG]: == Working Agent: Content Planner\u001b[00m\n",
      "\u001b[1m\u001b[95m [INFO]: == Starting Task: 1. Prioritize the latest trends, key players, and noteworthy news on Central Bank Digital Currency.\n",
      "2. Identify the target audience, considering their interests and pain points.\n",
      "3. Develop a detailed content outline including an introduction, key points, and a call to action.\n",
      "4. Include SEO keywords and relevant data or sources.\u001b[00m\n",
      "\n",
      "\n",
      "\u001b[1m> Entering new CrewAgentExecutor chain...\u001b[0m\n"
     ]
    },
    {
     "ename": "RuntimeError",
     "evalue": "no validator found for <class 'langchain_core.runnables.base.Runnable'>, see `arbitrary_types_allowed` in Config",
     "output_type": "error",
     "traceback": [
      "\u001b[0;31m---------------------------------------------------------------------------\u001b[0m",
      "\u001b[0;31mRuntimeError\u001b[0m                              Traceback (most recent call last)",
      "Cell \u001b[0;32mIn[29], line 1\u001b[0m\n\u001b[0;32m----> 1\u001b[0m result \u001b[38;5;241m=\u001b[39m \u001b[43mcrew\u001b[49m\u001b[38;5;241;43m.\u001b[39;49m\u001b[43mkickoff\u001b[49m\u001b[43m(\u001b[49m\u001b[43minputs\u001b[49m\u001b[38;5;241;43m=\u001b[39;49m\u001b[43m{\u001b[49m\u001b[38;5;124;43m\"\u001b[39;49m\u001b[38;5;124;43mtopic\u001b[39;49m\u001b[38;5;124;43m\"\u001b[39;49m\u001b[43m:\u001b[49m\u001b[43m \u001b[49m\u001b[38;5;124;43m\"\u001b[39;49m\u001b[38;5;124;43mCentral Bank Digital Currency\u001b[39;49m\u001b[38;5;124;43m\"\u001b[39;49m\u001b[43m}\u001b[49m\u001b[43m)\u001b[49m\n",
      "File \u001b[0;32m/usr/local/python/3.12.1/lib/python3.12/site-packages/crewai/crew.py:252\u001b[0m, in \u001b[0;36mkickoff\u001b[0;34m(self, inputs)\u001b[0m\n\u001b[1;32m    250\u001b[0m \u001b[38;5;129m@model_validator\u001b[39m(mode\u001b[38;5;241m=\u001b[39m\u001b[38;5;124m\"\u001b[39m\u001b[38;5;124mafter\u001b[39m\u001b[38;5;124m\"\u001b[39m)\n\u001b[1;32m    251\u001b[0m \u001b[38;5;28;01mdef\u001b[39;00m \u001b[38;5;21mcheck_manager_llm\u001b[39m(\u001b[38;5;28mself\u001b[39m):\n\u001b[0;32m--> 252\u001b[0m \u001b[38;5;250m    \u001b[39m\u001b[38;5;124;03m\"\"\"Validates that the language model is set when using hierarchical process.\"\"\"\u001b[39;00m\n\u001b[1;32m    253\u001b[0m     \u001b[38;5;28;01mif\u001b[39;00m \u001b[38;5;28mself\u001b[39m\u001b[38;5;241m.\u001b[39mprocess \u001b[38;5;241m==\u001b[39m Process\u001b[38;5;241m.\u001b[39mhierarchical:\n\u001b[1;32m    254\u001b[0m         \u001b[38;5;28;01mif\u001b[39;00m \u001b[38;5;129;01mnot\u001b[39;00m \u001b[38;5;28mself\u001b[39m\u001b[38;5;241m.\u001b[39mmanager_llm \u001b[38;5;129;01mand\u001b[39;00m \u001b[38;5;129;01mnot\u001b[39;00m \u001b[38;5;28mself\u001b[39m\u001b[38;5;241m.\u001b[39mmanager_agent:\n",
      "File \u001b[0;32m/usr/local/python/3.12.1/lib/python3.12/site-packages/crewai/crew.py:293\u001b[0m, in \u001b[0;36m_run_sequential_process\u001b[0;34m(self)\u001b[0m\n\u001b[1;32m    290\u001b[0m                 agent\u001b[38;5;241m.\u001b[39mset_rpm_controller(\u001b[38;5;28mself\u001b[39m\u001b[38;5;241m.\u001b[39m_rpm_controller)\n\u001b[1;32m    291\u001b[0m     \u001b[38;5;28;01mreturn\u001b[39;00m \u001b[38;5;28mself\u001b[39m\n\u001b[0;32m--> 293\u001b[0m \u001b[38;5;129m@model_validator\u001b[39m(mode\u001b[38;5;241m=\u001b[39m\u001b[38;5;124m\"\u001b[39m\u001b[38;5;124mafter\u001b[39m\u001b[38;5;124m\"\u001b[39m)\n\u001b[1;32m    294\u001b[0m \u001b[38;5;28;01mdef\u001b[39;00m \u001b[38;5;21mvalidate_tasks\u001b[39m(\u001b[38;5;28mself\u001b[39m):\n\u001b[1;32m    295\u001b[0m     \u001b[38;5;28;01mif\u001b[39;00m \u001b[38;5;28mself\u001b[39m\u001b[38;5;241m.\u001b[39mprocess \u001b[38;5;241m==\u001b[39m Process\u001b[38;5;241m.\u001b[39msequential:\n\u001b[1;32m    296\u001b[0m         \u001b[38;5;28;01mfor\u001b[39;00m task \u001b[38;5;129;01min\u001b[39;00m \u001b[38;5;28mself\u001b[39m\u001b[38;5;241m.\u001b[39mtasks:\n",
      "File \u001b[0;32m/usr/local/python/3.12.1/lib/python3.12/site-packages/crewai/task.py:173\u001b[0m, in \u001b[0;36mexecute\u001b[0;34m(self, agent, context, tools)\u001b[0m\n\u001b[1;32m    170\u001b[0m         \u001b[38;5;28mself\u001b[39m\u001b[38;5;241m.\u001b[39mtools\u001b[38;5;241m.\u001b[39mextend(\u001b[38;5;28mself\u001b[39m\u001b[38;5;241m.\u001b[39magent\u001b[38;5;241m.\u001b[39mtools)\n\u001b[1;32m    171\u001b[0m     \u001b[38;5;28;01mreturn\u001b[39;00m \u001b[38;5;28mself\u001b[39m\n\u001b[0;32m--> 173\u001b[0m \u001b[38;5;129m@model_validator\u001b[39m(mode\u001b[38;5;241m=\u001b[39m\u001b[38;5;124m\"\u001b[39m\u001b[38;5;124mafter\u001b[39m\u001b[38;5;124m\"\u001b[39m)\n\u001b[1;32m    174\u001b[0m \u001b[38;5;28;01mdef\u001b[39;00m \u001b[38;5;21mcheck_output\u001b[39m(\u001b[38;5;28mself\u001b[39m):\n\u001b[1;32m    175\u001b[0m \u001b[38;5;250m    \u001b[39m\u001b[38;5;124;03m\"\"\"Check if an output type is set.\"\"\"\u001b[39;00m\n\u001b[1;32m    176\u001b[0m     output_types \u001b[38;5;241m=\u001b[39m [\u001b[38;5;28mself\u001b[39m\u001b[38;5;241m.\u001b[39moutput_json, \u001b[38;5;28mself\u001b[39m\u001b[38;5;241m.\u001b[39moutput_pydantic]\n",
      "File \u001b[0;32m/usr/local/python/3.12.1/lib/python3.12/site-packages/crewai/task.py:182\u001b[0m, in \u001b[0;36m_execute\u001b[0;34m(self, agent, task, context, tools)\u001b[0m\n\u001b[1;32m    176\u001b[0m output_types \u001b[38;5;241m=\u001b[39m [\u001b[38;5;28mself\u001b[39m\u001b[38;5;241m.\u001b[39moutput_json, \u001b[38;5;28mself\u001b[39m\u001b[38;5;241m.\u001b[39moutput_pydantic]\n\u001b[1;32m    177\u001b[0m \u001b[38;5;28;01mif\u001b[39;00m \u001b[38;5;28mlen\u001b[39m([\u001b[38;5;28mtype\u001b[39m \u001b[38;5;28;01mfor\u001b[39;00m \u001b[38;5;28mtype\u001b[39m \u001b[38;5;129;01min\u001b[39;00m output_types \u001b[38;5;28;01mif\u001b[39;00m \u001b[38;5;28mtype\u001b[39m]) \u001b[38;5;241m>\u001b[39m \u001b[38;5;241m1\u001b[39m:\n\u001b[1;32m    178\u001b[0m     \u001b[38;5;28;01mraise\u001b[39;00m PydanticCustomError(\n\u001b[1;32m    179\u001b[0m         \u001b[38;5;124m\"\u001b[39m\u001b[38;5;124moutput_type\u001b[39m\u001b[38;5;124m\"\u001b[39m,\n\u001b[1;32m    180\u001b[0m         \u001b[38;5;124m\"\u001b[39m\u001b[38;5;124mOnly one output type can be set, either output_pydantic or output_json.\u001b[39m\u001b[38;5;124m\"\u001b[39m,\n\u001b[1;32m    181\u001b[0m         {},\n\u001b[0;32m--> 182\u001b[0m     )\n\u001b[1;32m    183\u001b[0m \u001b[38;5;28;01mreturn\u001b[39;00m \u001b[38;5;28mself\u001b[39m\n",
      "File \u001b[0;32m/usr/local/python/3.12.1/lib/python3.12/site-packages/crewai/agent.py:221\u001b[0m, in \u001b[0;36mexecute_task\u001b[0;34m(self, task, context, tools)\u001b[0m\n\u001b[1;32m    216\u001b[0m         \u001b[38;5;28mself\u001b[39m\u001b[38;5;241m.\u001b[39mfunction_calling_llm \u001b[38;5;241m=\u001b[39m LLM(model\u001b[38;5;241m=\u001b[39m\u001b[38;5;28mself\u001b[39m\u001b[38;5;241m.\u001b[39mfunction_calling_llm)\n\u001b[1;32m    217\u001b[0m     \u001b[38;5;28;01melif\u001b[39;00m \u001b[38;5;129;01mnot\u001b[39;00m \u001b[38;5;28misinstance\u001b[39m(\u001b[38;5;28mself\u001b[39m\u001b[38;5;241m.\u001b[39mfunction_calling_llm, LLM):\n\u001b[1;32m    218\u001b[0m         \u001b[38;5;28mself\u001b[39m\u001b[38;5;241m.\u001b[39mfunction_calling_llm \u001b[38;5;241m=\u001b[39m LLM(\n\u001b[1;32m    219\u001b[0m             model\u001b[38;5;241m=\u001b[39m\u001b[38;5;28mgetattr\u001b[39m(\u001b[38;5;28mself\u001b[39m\u001b[38;5;241m.\u001b[39mfunction_calling_llm, \u001b[38;5;124m\"\u001b[39m\u001b[38;5;124mmodel_name\u001b[39m\u001b[38;5;124m\"\u001b[39m, \u001b[38;5;28;01mNone\u001b[39;00m)\n\u001b[1;32m    220\u001b[0m             \u001b[38;5;129;01mor\u001b[39;00m \u001b[38;5;28mgetattr\u001b[39m(\u001b[38;5;28mself\u001b[39m\u001b[38;5;241m.\u001b[39mfunction_calling_llm, \u001b[38;5;124m\"\u001b[39m\u001b[38;5;124mdeployment_name\u001b[39m\u001b[38;5;124m\"\u001b[39m, \u001b[38;5;28;01mNone\u001b[39;00m)\n\u001b[0;32m--> 221\u001b[0m             \u001b[38;5;129;01mor\u001b[39;00m \u001b[38;5;28mstr\u001b[39m(\u001b[38;5;28mself\u001b[39m\u001b[38;5;241m.\u001b[39mfunction_calling_llm)\n\u001b[1;32m    222\u001b[0m         )\n\u001b[1;32m    224\u001b[0m \u001b[38;5;28;01mif\u001b[39;00m \u001b[38;5;129;01mnot\u001b[39;00m \u001b[38;5;28mself\u001b[39m\u001b[38;5;241m.\u001b[39magent_executor:\n\u001b[1;32m    225\u001b[0m     \u001b[38;5;28mself\u001b[39m\u001b[38;5;241m.\u001b[39m_setup_agent_executor()\n",
      "File \u001b[0;32m/usr/local/python/3.12.1/lib/python3.12/site-packages/langchain/chains/base.py:163\u001b[0m, in \u001b[0;36minvoke\u001b[0;34m(self, input, config, **kwargs)\u001b[0m\n\u001b[1;32m    157\u001b[0m try:\n\u001b[1;32m    158\u001b[0m     self._validate_inputs(inputs)\n\u001b[1;32m    159\u001b[0m     outputs = (\n\u001b[1;32m    160\u001b[0m         self._call(inputs, run_manager=run_manager)\n\u001b[1;32m    161\u001b[0m         if new_arg_supported\n\u001b[1;32m    162\u001b[0m         else self._call(inputs)\n\u001b[0;32m--> 163\u001b[0m     )\n\u001b[1;32m    165\u001b[0m     final_outputs: Dict[str, Any] = self.prep_outputs(\n\u001b[1;32m    166\u001b[0m         inputs, outputs, return_only_outputs\n\u001b[1;32m    167\u001b[0m     )\n\u001b[1;32m    168\u001b[0m except BaseException as e:\n",
      "File \u001b[0;32m/usr/local/python/3.12.1/lib/python3.12/site-packages/langchain/chains/base.py:153\u001b[0m, in \u001b[0;36minvoke\u001b[0;34m(self, input, config, **kwargs)\u001b[0m\n\u001b[1;32m    140\u001b[0m callback_manager \u001b[38;5;241m=\u001b[39m CallbackManager\u001b[38;5;241m.\u001b[39mconfigure(\n\u001b[1;32m    141\u001b[0m     callbacks,\n\u001b[1;32m    142\u001b[0m     \u001b[38;5;28mself\u001b[39m\u001b[38;5;241m.\u001b[39mcallbacks,\n\u001b[0;32m   (...)\u001b[0m\n\u001b[1;32m    147\u001b[0m     \u001b[38;5;28mself\u001b[39m\u001b[38;5;241m.\u001b[39mmetadata,\n\u001b[1;32m    148\u001b[0m )\n\u001b[1;32m    149\u001b[0m new_arg_supported \u001b[38;5;241m=\u001b[39m inspect\u001b[38;5;241m.\u001b[39msignature(\u001b[38;5;28mself\u001b[39m\u001b[38;5;241m.\u001b[39m_call)\u001b[38;5;241m.\u001b[39mparameters\u001b[38;5;241m.\u001b[39mget(\u001b[38;5;124m\"\u001b[39m\u001b[38;5;124mrun_manager\u001b[39m\u001b[38;5;124m\"\u001b[39m)\n\u001b[1;32m    151\u001b[0m run_manager \u001b[38;5;241m=\u001b[39m callback_manager\u001b[38;5;241m.\u001b[39mon_chain_start(\n\u001b[1;32m    152\u001b[0m     \u001b[38;5;28;01mNone\u001b[39;00m,\n\u001b[0;32m--> 153\u001b[0m     inputs,\n\u001b[1;32m    154\u001b[0m     run_id,\n\u001b[1;32m    155\u001b[0m     name\u001b[38;5;241m=\u001b[39mrun_name,\n\u001b[1;32m    156\u001b[0m )\n\u001b[1;32m    157\u001b[0m \u001b[38;5;28;01mtry\u001b[39;00m:\n\u001b[1;32m    158\u001b[0m     \u001b[38;5;28mself\u001b[39m\u001b[38;5;241m.\u001b[39m_validate_inputs(inputs)\n",
      "File \u001b[0;32m/usr/local/python/3.12.1/lib/python3.12/site-packages/crewai/agents/executor.py:124\u001b[0m, in \u001b[0;36m_call\u001b[0;34m(self, inputs, run_manager)\u001b[0m\n",
      "File \u001b[0;32m/usr/local/python/3.12.1/lib/python3.12/site-packages/langchain/agents/agent.py:1138\u001b[0m, in \u001b[0;36m_take_next_step\u001b[0;34m(self, name_to_tool_map, color_mapping, inputs, intermediate_steps, run_manager)\u001b[0m\n\u001b[1;32m   1126\u001b[0m \u001b[38;5;129m@model_validator\u001b[39m(mode\u001b[38;5;241m=\u001b[39m\u001b[38;5;124m\"\u001b[39m\u001b[38;5;124mafter\u001b[39m\u001b[38;5;124m\"\u001b[39m)\n\u001b[1;32m   1127\u001b[0m \u001b[38;5;28;01mdef\u001b[39;00m \u001b[38;5;21mvalidate_tools\u001b[39m(\u001b[38;5;28mself\u001b[39m) \u001b[38;5;241m-\u001b[39m\u001b[38;5;241m>\u001b[39m Self:\n\u001b[1;32m   1128\u001b[0m \u001b[38;5;250m    \u001b[39m\u001b[38;5;124;03m\"\"\"Validate that tools are compatible with agent.\u001b[39;00m\n\u001b[1;32m   1129\u001b[0m \n\u001b[1;32m   1130\u001b[0m \u001b[38;5;124;03m    Args:\u001b[39;00m\n\u001b[1;32m   1131\u001b[0m \u001b[38;5;124;03m        values: Values to validate.\u001b[39;00m\n\u001b[1;32m   1132\u001b[0m \n\u001b[1;32m   1133\u001b[0m \u001b[38;5;124;03m    Returns:\u001b[39;00m\n\u001b[1;32m   1134\u001b[0m \u001b[38;5;124;03m        Dict: Validated values.\u001b[39;00m\n\u001b[1;32m   1135\u001b[0m \n\u001b[1;32m   1136\u001b[0m \u001b[38;5;124;03m    Raises:\u001b[39;00m\n\u001b[1;32m   1137\u001b[0m \u001b[38;5;124;03m        ValueError: If allowed tools are different than provided tools.\u001b[39;00m\n\u001b[0;32m-> 1138\u001b[0m \u001b[38;5;124;03m    \"\"\"\u001b[39;00m\n\u001b[1;32m   1139\u001b[0m     agent \u001b[38;5;241m=\u001b[39m \u001b[38;5;28mself\u001b[39m\u001b[38;5;241m.\u001b[39magent\n\u001b[1;32m   1140\u001b[0m     tools \u001b[38;5;241m=\u001b[39m \u001b[38;5;28mself\u001b[39m\u001b[38;5;241m.\u001b[39mtools\n",
      "File \u001b[0;32m/usr/local/python/3.12.1/lib/python3.12/site-packages/crewai/agents/executor.py:186\u001b[0m, in \u001b[0;36m_iter_next_step\u001b[0;34m(self, name_to_tool_map, color_mapping, inputs, intermediate_steps, run_manager)\u001b[0m\n",
      "File \u001b[0;32m/usr/local/python/3.12.1/lib/python3.12/site-packages/langchain/agents/agent.py:397\u001b[0m, in \u001b[0;36mplan\u001b[0;34m(self, intermediate_steps, callbacks, **kwargs)\u001b[0m\n\u001b[1;32m    395\u001b[0m \u001b[38;5;129m@abstractmethod\u001b[39m\n\u001b[1;32m    396\u001b[0m \u001b[38;5;28;01mdef\u001b[39;00m \u001b[38;5;21mparse\u001b[39m(\u001b[38;5;28mself\u001b[39m, text: \u001b[38;5;28mstr\u001b[39m) \u001b[38;5;241m-\u001b[39m\u001b[38;5;241m>\u001b[39m Union[List[AgentAction], AgentFinish]:\n\u001b[0;32m--> 397\u001b[0m \u001b[38;5;250m    \u001b[39m\u001b[38;5;124;03m\"\"\"Parse text into agent actions/finish.\u001b[39;00m\n\u001b[1;32m    398\u001b[0m \n\u001b[1;32m    399\u001b[0m \u001b[38;5;124;03m    Args:\u001b[39;00m\n\u001b[1;32m    400\u001b[0m \u001b[38;5;124;03m        text: Text to parse.\u001b[39;00m\n\u001b[1;32m    401\u001b[0m \n\u001b[1;32m    402\u001b[0m \u001b[38;5;124;03m    Returns:\u001b[39;00m\n\u001b[1;32m    403\u001b[0m \u001b[38;5;124;03m        Union[List[AgentAction], AgentFinish]:\u001b[39;00m\n\u001b[1;32m    404\u001b[0m \u001b[38;5;124;03m            List of agent actions or agent finish.\u001b[39;00m\n\u001b[1;32m    405\u001b[0m \u001b[38;5;124;03m    \"\"\"\u001b[39;00m\n",
      "File \u001b[0;32m/usr/local/python/3.12.1/lib/python3.12/site-packages/langchain_core/runnables/base.py:2875\u001b[0m, in \u001b[0;36mstream\u001b[0;34m(self, input, config, **kwargs)\u001b[0m\n\u001b[1;32m   2870\u001b[0m \u001b[38;5;66;03m# calculate context dependencies\u001b[39;00m\n\u001b[1;32m   2871\u001b[0m specs_by_pos \u001b[38;5;241m=\u001b[39m groupby(\n\u001b[1;32m   2872\u001b[0m     [tup \u001b[38;5;28;01mfor\u001b[39;00m tup \u001b[38;5;129;01min\u001b[39;00m all_specs \u001b[38;5;28;01mif\u001b[39;00m tup[\u001b[38;5;241m0\u001b[39m]\u001b[38;5;241m.\u001b[39mid\u001b[38;5;241m.\u001b[39mstartswith(CONTEXT_CONFIG_PREFIX)],\n\u001b[1;32m   2873\u001b[0m     \u001b[38;5;28;01mlambda\u001b[39;00m x: x[\u001b[38;5;241m1\u001b[39m],\n\u001b[1;32m   2874\u001b[0m )\n\u001b[0;32m-> 2875\u001b[0m next_deps: \u001b[38;5;28mset\u001b[39m[\u001b[38;5;28mstr\u001b[39m] \u001b[38;5;241m=\u001b[39m \u001b[38;5;28mset\u001b[39m()\n\u001b[1;32m   2876\u001b[0m deps_by_pos: \u001b[38;5;28mdict\u001b[39m[\u001b[38;5;28mint\u001b[39m, \u001b[38;5;28mset\u001b[39m[\u001b[38;5;28mstr\u001b[39m]] \u001b[38;5;241m=\u001b[39m {}\n\u001b[1;32m   2877\u001b[0m \u001b[38;5;28;01mfor\u001b[39;00m pos, specs \u001b[38;5;129;01min\u001b[39;00m specs_by_pos:\n",
      "File \u001b[0;32m/usr/local/python/3.12.1/lib/python3.12/site-packages/langchain_core/runnables/base.py:2862\u001b[0m, in \u001b[0;36mtransform\u001b[0;34m(self, input, config, **kwargs)\u001b[0m\n\u001b[1;32m   2852\u001b[0m @property\n\u001b[1;32m   2853\u001b[0m def config_specs(self) -> list[ConfigurableFieldSpec]:\n\u001b[1;32m   2854\u001b[0m     \"\"\"Get the config specs of the Runnable.\n\u001b[1;32m   2855\u001b[0m \n\u001b[1;32m   2856\u001b[0m     Returns:\n\u001b[1;32m   2857\u001b[0m         The config specs of the Runnable.\n\u001b[1;32m   2858\u001b[0m     \"\"\"\n\u001b[1;32m   2859\u001b[0m     from langchain_core.beta.runnables.context import (\n\u001b[1;32m   2860\u001b[0m         CONTEXT_CONFIG_PREFIX,\n\u001b[1;32m   2861\u001b[0m         _key_from_id,\n\u001b[0;32m-> 2862\u001b[0m     )\n\u001b[1;32m   2864\u001b[0m     # get all specs\n\u001b[1;32m   2865\u001b[0m     all_specs = [\n\u001b[1;32m   2866\u001b[0m         (spec, idx)\n\u001b[1;32m   2867\u001b[0m         for idx, step in enumerate(self.steps)\n\u001b[1;32m   2868\u001b[0m         for spec in step.config_specs\n\u001b[1;32m   2869\u001b[0m     ]\n",
      "File \u001b[0;32m/usr/local/python/3.12.1/lib/python3.12/site-packages/langchain_core/runnables/base.py:1881\u001b[0m, in \u001b[0;36m_transform_stream_with_config\u001b[0;34m(self, input, transformer, config, run_type, **kwargs)\u001b[0m\n\u001b[1;32m   1825\u001b[0m \u001b[38;5;28;01mdef\u001b[39;00m \u001b[38;5;21mwith_fallbacks\u001b[39m(\n\u001b[1;32m   1826\u001b[0m     \u001b[38;5;28mself\u001b[39m,\n\u001b[1;32m   1827\u001b[0m     fallbacks: Sequence[Runnable[Input, Output]],\n\u001b[0;32m   (...)\u001b[0m\n\u001b[1;32m   1830\u001b[0m     exception_key: Optional[\u001b[38;5;28mstr\u001b[39m] \u001b[38;5;241m=\u001b[39m \u001b[38;5;28;01mNone\u001b[39;00m,\n\u001b[1;32m   1831\u001b[0m ) \u001b[38;5;241m-\u001b[39m\u001b[38;5;241m>\u001b[39m RunnableWithFallbacksT[Input, Output]:\n\u001b[1;32m   1832\u001b[0m \u001b[38;5;250m    \u001b[39m\u001b[38;5;124;03m\"\"\"Add fallbacks to a Runnable, returning a new Runnable.\u001b[39;00m\n\u001b[1;32m   1833\u001b[0m \n\u001b[1;32m   1834\u001b[0m \u001b[38;5;124;03m    The new Runnable will try the original Runnable, and then each fallback\u001b[39;00m\n\u001b[1;32m   1835\u001b[0m \u001b[38;5;124;03m    in order, upon failures.\u001b[39;00m\n\u001b[1;32m   1836\u001b[0m \n\u001b[1;32m   1837\u001b[0m \u001b[38;5;124;03m    Args:\u001b[39;00m\n\u001b[1;32m   1838\u001b[0m \u001b[38;5;124;03m        fallbacks: A sequence of runnables to try if the original Runnable fails.\u001b[39;00m\n\u001b[1;32m   1839\u001b[0m \u001b[38;5;124;03m        exceptions_to_handle: A tuple of exception types to handle.\u001b[39;00m\n\u001b[1;32m   1840\u001b[0m \u001b[38;5;124;03m            Defaults to (Exception,).\u001b[39;00m\n\u001b[1;32m   1841\u001b[0m \u001b[38;5;124;03m        exception_key: If string is specified then handled exceptions will be passed\u001b[39;00m\n\u001b[1;32m   1842\u001b[0m \u001b[38;5;124;03m            to fallbacks as part of the input under the specified key. If None,\u001b[39;00m\n\u001b[1;32m   1843\u001b[0m \u001b[38;5;124;03m            exceptions will not be passed to fallbacks. If used, the base Runnable\u001b[39;00m\n\u001b[1;32m   1844\u001b[0m \u001b[38;5;124;03m            and its fallbacks must accept a dictionary as input. Defaults to None.\u001b[39;00m\n\u001b[1;32m   1845\u001b[0m \n\u001b[1;32m   1846\u001b[0m \u001b[38;5;124;03m    Returns:\u001b[39;00m\n\u001b[1;32m   1847\u001b[0m \u001b[38;5;124;03m        A new Runnable that will try the original Runnable, and then each\u001b[39;00m\n\u001b[1;32m   1848\u001b[0m \u001b[38;5;124;03m        fallback in order, upon failures.\u001b[39;00m\n\u001b[1;32m   1849\u001b[0m \n\u001b[1;32m   1850\u001b[0m \u001b[38;5;124;03m    Example:\u001b[39;00m\n\u001b[1;32m   1851\u001b[0m \n\u001b[1;32m   1852\u001b[0m \u001b[38;5;124;03m        .. code-block:: python\u001b[39;00m\n\u001b[1;32m   1853\u001b[0m \n\u001b[1;32m   1854\u001b[0m \u001b[38;5;124;03m            from typing import Iterator\u001b[39;00m\n\u001b[1;32m   1855\u001b[0m \n\u001b[1;32m   1856\u001b[0m \u001b[38;5;124;03m            from langchain_core.runnables import RunnableGenerator\u001b[39;00m\n\u001b[1;32m   1857\u001b[0m \n\u001b[1;32m   1858\u001b[0m \n\u001b[1;32m   1859\u001b[0m \u001b[38;5;124;03m            def _generate_immediate_error(input: Iterator) -> Iterator[str]:\u001b[39;00m\n\u001b[1;32m   1860\u001b[0m \u001b[38;5;124;03m                raise ValueError()\u001b[39;00m\n\u001b[1;32m   1861\u001b[0m \u001b[38;5;124;03m                yield \"\"\u001b[39;00m\n\u001b[1;32m   1862\u001b[0m \n\u001b[1;32m   1863\u001b[0m \n\u001b[1;32m   1864\u001b[0m \u001b[38;5;124;03m            def _generate(input: Iterator) -> Iterator[str]:\u001b[39;00m\n\u001b[1;32m   1865\u001b[0m \u001b[38;5;124;03m                yield from \"foo bar\"\u001b[39;00m\n\u001b[1;32m   1866\u001b[0m \n\u001b[1;32m   1867\u001b[0m \n\u001b[1;32m   1868\u001b[0m \u001b[38;5;124;03m            runnable = RunnableGenerator(_generate_immediate_error).with_fallbacks(\u001b[39;00m\n\u001b[1;32m   1869\u001b[0m \u001b[38;5;124;03m                [RunnableGenerator(_generate)]\u001b[39;00m\n\u001b[1;32m   1870\u001b[0m \u001b[38;5;124;03m                )\u001b[39;00m\n\u001b[1;32m   1871\u001b[0m \u001b[38;5;124;03m            print(''.join(runnable.stream({}))) #foo bar\u001b[39;00m\n\u001b[1;32m   1872\u001b[0m \n\u001b[1;32m   1873\u001b[0m \u001b[38;5;124;03m    Args:\u001b[39;00m\n\u001b[1;32m   1874\u001b[0m \u001b[38;5;124;03m        fallbacks: A sequence of runnables to try if the original Runnable fails.\u001b[39;00m\n\u001b[1;32m   1875\u001b[0m \u001b[38;5;124;03m        exceptions_to_handle: A tuple of exception types to handle.\u001b[39;00m\n\u001b[1;32m   1876\u001b[0m \u001b[38;5;124;03m        exception_key: If string is specified then handled exceptions will be passed\u001b[39;00m\n\u001b[1;32m   1877\u001b[0m \u001b[38;5;124;03m            to fallbacks as part of the input under the specified key. If None,\u001b[39;00m\n\u001b[1;32m   1878\u001b[0m \u001b[38;5;124;03m            exceptions will not be passed to fallbacks. If used, the base Runnable\u001b[39;00m\n\u001b[1;32m   1879\u001b[0m \u001b[38;5;124;03m            and its fallbacks must accept a dictionary as input.\u001b[39;00m\n\u001b[1;32m   1880\u001b[0m \n\u001b[0;32m-> 1881\u001b[0m \u001b[38;5;124;03m    Returns:\u001b[39;00m\n\u001b[1;32m   1882\u001b[0m \u001b[38;5;124;03m        A new Runnable that will try the original Runnable, and then each\u001b[39;00m\n\u001b[1;32m   1883\u001b[0m \u001b[38;5;124;03m        fallback in order, upon failures.\u001b[39;00m\n\u001b[1;32m   1884\u001b[0m \n\u001b[1;32m   1885\u001b[0m \u001b[38;5;124;03m    \"\"\"\u001b[39;00m\n\u001b[1;32m   1886\u001b[0m     \u001b[38;5;28;01mfrom\u001b[39;00m \u001b[38;5;21;01mlangchain_core\u001b[39;00m\u001b[38;5;21;01m.\u001b[39;00m\u001b[38;5;21;01mrunnables\u001b[39;00m\u001b[38;5;21;01m.\u001b[39;00m\u001b[38;5;21;01mfallbacks\u001b[39;00m \u001b[38;5;28;01mimport\u001b[39;00m RunnableWithFallbacks\n\u001b[1;32m   1888\u001b[0m     \u001b[38;5;28;01mreturn\u001b[39;00m RunnableWithFallbacks(\n\u001b[1;32m   1889\u001b[0m         runnable\u001b[38;5;241m=\u001b[39m\u001b[38;5;28mself\u001b[39m,\n\u001b[1;32m   1890\u001b[0m         fallbacks\u001b[38;5;241m=\u001b[39mfallbacks,\n\u001b[1;32m   1891\u001b[0m         exceptions_to_handle\u001b[38;5;241m=\u001b[39mexceptions_to_handle,\n\u001b[1;32m   1892\u001b[0m         exception_key\u001b[38;5;241m=\u001b[39mexception_key,\n\u001b[1;32m   1893\u001b[0m     )\n",
      "File \u001b[0;32m/usr/local/python/3.12.1/lib/python3.12/site-packages/langchain_core/runnables/base.py:2808\u001b[0m, in \u001b[0;36m_transform\u001b[0;34m(self, input, run_manager, config)\u001b[0m\n\u001b[1;32m   2800\u001b[0m \u001b[38;5;129m@classmethod\u001b[39m\n\u001b[1;32m   2801\u001b[0m \u001b[38;5;28;01mdef\u001b[39;00m \u001b[38;5;21mis_lc_serializable\u001b[39m(\u001b[38;5;28mcls\u001b[39m) \u001b[38;5;241m-\u001b[39m\u001b[38;5;241m>\u001b[39m \u001b[38;5;28mbool\u001b[39m:\n\u001b[1;32m   2802\u001b[0m \u001b[38;5;250m    \u001b[39m\u001b[38;5;124;03m\"\"\"Check if the object is serializable.\u001b[39;00m\n\u001b[1;32m   2803\u001b[0m \n\u001b[1;32m   2804\u001b[0m \u001b[38;5;124;03m    Returns:\u001b[39;00m\n\u001b[1;32m   2805\u001b[0m \u001b[38;5;124;03m        True if the object is serializable, False otherwise.\u001b[39;00m\n\u001b[1;32m   2806\u001b[0m \u001b[38;5;124;03m            Defaults to True.\u001b[39;00m\n\u001b[1;32m   2807\u001b[0m \u001b[38;5;124;03m    \"\"\"\u001b[39;00m\n\u001b[0;32m-> 2808\u001b[0m     \u001b[38;5;28;01mreturn\u001b[39;00m \u001b[38;5;28;01mTrue\u001b[39;00m\n",
      "File \u001b[0;32m/usr/local/python/3.12.1/lib/python3.12/site-packages/langchain_core/beta/runnables/context.py:223\u001b[0m\n\u001b[1;32m    218\u001b[0m         \u001b[38;5;28;01mreturn\u001b[39;00m coerce_to_runnable(\u001b[38;5;28;01mlambda\u001b[39;00m _: value)\n\u001b[1;32m    219\u001b[0m     \u001b[38;5;28;01mreturn\u001b[39;00m coerce_to_runnable(value)\n\u001b[1;32m    222\u001b[0m \u001b[38;5;129;43m@beta\u001b[39;49m\u001b[43m(\u001b[49m\u001b[43m)\u001b[49m\n\u001b[0;32m--> 223\u001b[0m \u001b[38;5;28;43;01mclass\u001b[39;49;00m\u001b[43m \u001b[49m\u001b[38;5;21;43;01mContextSet\u001b[39;49;00m\u001b[43m(\u001b[49m\u001b[43mRunnableSerializable\u001b[49m\u001b[43m)\u001b[49m\u001b[43m:\u001b[49m\n\u001b[1;32m    224\u001b[0m \u001b[38;5;250;43m    \u001b[39;49m\u001b[38;5;124;43;03m\"\"\"Set a context value.\"\"\"\u001b[39;49;00m\n\u001b[1;32m    226\u001b[0m \u001b[43m    \u001b[49m\u001b[43mprefix\u001b[49m\u001b[43m:\u001b[49m\u001b[43m \u001b[49m\u001b[38;5;28;43mstr\u001b[39;49m\u001b[43m \u001b[49m\u001b[38;5;241;43m=\u001b[39;49m\u001b[43m \u001b[49m\u001b[38;5;124;43m\"\u001b[39;49m\u001b[38;5;124;43m\"\u001b[39;49m\n",
      "File \u001b[0;32m/usr/local/python/3.12.1/lib/python3.12/site-packages/pydantic/v1/main.py:197\u001b[0m, in \u001b[0;36mModelMetaclass.__new__\u001b[0;34m(mcs, name, bases, namespace, **kwargs)\u001b[0m\n\u001b[1;32m    189\u001b[0m     \u001b[38;5;28;01mif\u001b[39;00m (\n\u001b[1;32m    190\u001b[0m         is_untouched(value)\n\u001b[1;32m    191\u001b[0m         \u001b[38;5;129;01mand\u001b[39;00m ann_type \u001b[38;5;241m!=\u001b[39m PyObject\n\u001b[0;32m   (...)\u001b[0m\n\u001b[1;32m    194\u001b[0m         )\n\u001b[1;32m    195\u001b[0m     ):\n\u001b[1;32m    196\u001b[0m         \u001b[38;5;28;01mcontinue\u001b[39;00m\n\u001b[0;32m--> 197\u001b[0m     fields[ann_name] \u001b[38;5;241m=\u001b[39m \u001b[43mModelField\u001b[49m\u001b[38;5;241;43m.\u001b[39;49m\u001b[43minfer\u001b[49m\u001b[43m(\u001b[49m\n\u001b[1;32m    198\u001b[0m \u001b[43m        \u001b[49m\u001b[43mname\u001b[49m\u001b[38;5;241;43m=\u001b[39;49m\u001b[43mann_name\u001b[49m\u001b[43m,\u001b[49m\n\u001b[1;32m    199\u001b[0m \u001b[43m        \u001b[49m\u001b[43mvalue\u001b[49m\u001b[38;5;241;43m=\u001b[39;49m\u001b[43mvalue\u001b[49m\u001b[43m,\u001b[49m\n\u001b[1;32m    200\u001b[0m \u001b[43m        \u001b[49m\u001b[43mannotation\u001b[49m\u001b[38;5;241;43m=\u001b[39;49m\u001b[43mann_type\u001b[49m\u001b[43m,\u001b[49m\n\u001b[1;32m    201\u001b[0m \u001b[43m        \u001b[49m\u001b[43mclass_validators\u001b[49m\u001b[38;5;241;43m=\u001b[39;49m\u001b[43mvg\u001b[49m\u001b[38;5;241;43m.\u001b[39;49m\u001b[43mget_validators\u001b[49m\u001b[43m(\u001b[49m\u001b[43mann_name\u001b[49m\u001b[43m)\u001b[49m\u001b[43m,\u001b[49m\n\u001b[1;32m    202\u001b[0m \u001b[43m        \u001b[49m\u001b[43mconfig\u001b[49m\u001b[38;5;241;43m=\u001b[39;49m\u001b[43mconfig\u001b[49m\u001b[43m,\u001b[49m\n\u001b[1;32m    203\u001b[0m \u001b[43m    \u001b[49m\u001b[43m)\u001b[49m\n\u001b[1;32m    204\u001b[0m \u001b[38;5;28;01melif\u001b[39;00m ann_name \u001b[38;5;129;01mnot\u001b[39;00m \u001b[38;5;129;01min\u001b[39;00m namespace \u001b[38;5;129;01mand\u001b[39;00m config\u001b[38;5;241m.\u001b[39munderscore_attrs_are_private:\n\u001b[1;32m    205\u001b[0m     private_attributes[ann_name] \u001b[38;5;241m=\u001b[39m PrivateAttr()\n",
      "File \u001b[0;32m/usr/local/python/3.12.1/lib/python3.12/site-packages/pydantic/v1/fields.py:504\u001b[0m, in \u001b[0;36mModelField.infer\u001b[0;34m(cls, name, value, annotation, class_validators, config)\u001b[0m\n\u001b[1;32m    501\u001b[0m     required \u001b[38;5;241m=\u001b[39m \u001b[38;5;28;01mFalse\u001b[39;00m\n\u001b[1;32m    502\u001b[0m annotation \u001b[38;5;241m=\u001b[39m get_annotation_from_field_info(annotation, field_info, name, config\u001b[38;5;241m.\u001b[39mvalidate_assignment)\n\u001b[0;32m--> 504\u001b[0m \u001b[38;5;28;01mreturn\u001b[39;00m \u001b[38;5;28;43mcls\u001b[39;49m\u001b[43m(\u001b[49m\n\u001b[1;32m    505\u001b[0m \u001b[43m    \u001b[49m\u001b[43mname\u001b[49m\u001b[38;5;241;43m=\u001b[39;49m\u001b[43mname\u001b[49m\u001b[43m,\u001b[49m\n\u001b[1;32m    506\u001b[0m \u001b[43m    \u001b[49m\u001b[43mtype_\u001b[49m\u001b[38;5;241;43m=\u001b[39;49m\u001b[43mannotation\u001b[49m\u001b[43m,\u001b[49m\n\u001b[1;32m    507\u001b[0m \u001b[43m    \u001b[49m\u001b[43malias\u001b[49m\u001b[38;5;241;43m=\u001b[39;49m\u001b[43mfield_info\u001b[49m\u001b[38;5;241;43m.\u001b[39;49m\u001b[43malias\u001b[49m\u001b[43m,\u001b[49m\n\u001b[1;32m    508\u001b[0m \u001b[43m    \u001b[49m\u001b[43mclass_validators\u001b[49m\u001b[38;5;241;43m=\u001b[39;49m\u001b[43mclass_validators\u001b[49m\u001b[43m,\u001b[49m\n\u001b[1;32m    509\u001b[0m \u001b[43m    \u001b[49m\u001b[43mdefault\u001b[49m\u001b[38;5;241;43m=\u001b[39;49m\u001b[43mvalue\u001b[49m\u001b[43m,\u001b[49m\n\u001b[1;32m    510\u001b[0m \u001b[43m    \u001b[49m\u001b[43mdefault_factory\u001b[49m\u001b[38;5;241;43m=\u001b[39;49m\u001b[43mfield_info\u001b[49m\u001b[38;5;241;43m.\u001b[39;49m\u001b[43mdefault_factory\u001b[49m\u001b[43m,\u001b[49m\n\u001b[1;32m    511\u001b[0m \u001b[43m    \u001b[49m\u001b[43mrequired\u001b[49m\u001b[38;5;241;43m=\u001b[39;49m\u001b[43mrequired\u001b[49m\u001b[43m,\u001b[49m\n\u001b[1;32m    512\u001b[0m \u001b[43m    \u001b[49m\u001b[43mmodel_config\u001b[49m\u001b[38;5;241;43m=\u001b[39;49m\u001b[43mconfig\u001b[49m\u001b[43m,\u001b[49m\n\u001b[1;32m    513\u001b[0m \u001b[43m    \u001b[49m\u001b[43mfield_info\u001b[49m\u001b[38;5;241;43m=\u001b[39;49m\u001b[43mfield_info\u001b[49m\u001b[43m,\u001b[49m\n\u001b[1;32m    514\u001b[0m \u001b[43m\u001b[49m\u001b[43m)\u001b[49m\n",
      "File \u001b[0;32m/usr/local/python/3.12.1/lib/python3.12/site-packages/pydantic/v1/fields.py:434\u001b[0m, in \u001b[0;36mModelField.__init__\u001b[0;34m(self, name, type_, class_validators, model_config, default, default_factory, required, final, alias, field_info)\u001b[0m\n\u001b[1;32m    432\u001b[0m \u001b[38;5;28mself\u001b[39m\u001b[38;5;241m.\u001b[39mshape: \u001b[38;5;28mint\u001b[39m \u001b[38;5;241m=\u001b[39m SHAPE_SINGLETON\n\u001b[1;32m    433\u001b[0m \u001b[38;5;28mself\u001b[39m\u001b[38;5;241m.\u001b[39mmodel_config\u001b[38;5;241m.\u001b[39mprepare_field(\u001b[38;5;28mself\u001b[39m)\n\u001b[0;32m--> 434\u001b[0m \u001b[38;5;28;43mself\u001b[39;49m\u001b[38;5;241;43m.\u001b[39;49m\u001b[43mprepare\u001b[49m\u001b[43m(\u001b[49m\u001b[43m)\u001b[49m\n",
      "File \u001b[0;32m/usr/local/python/3.12.1/lib/python3.12/site-packages/pydantic/v1/fields.py:550\u001b[0m, in \u001b[0;36mModelField.prepare\u001b[0;34m(self)\u001b[0m\n\u001b[1;32m    545\u001b[0m \u001b[38;5;28;01mif\u001b[39;00m \u001b[38;5;28mself\u001b[39m\u001b[38;5;241m.\u001b[39mtype_\u001b[38;5;241m.\u001b[39m\u001b[38;5;18m__class__\u001b[39m \u001b[38;5;129;01mis\u001b[39;00m ForwardRef \u001b[38;5;129;01mor\u001b[39;00m \u001b[38;5;28mself\u001b[39m\u001b[38;5;241m.\u001b[39mtype_\u001b[38;5;241m.\u001b[39m\u001b[38;5;18m__class__\u001b[39m \u001b[38;5;129;01mis\u001b[39;00m DeferredType:\n\u001b[1;32m    546\u001b[0m     \u001b[38;5;66;03m# self.type_ is currently a ForwardRef and there's nothing we can do now,\u001b[39;00m\n\u001b[1;32m    547\u001b[0m     \u001b[38;5;66;03m# user will need to call model.update_forward_refs()\u001b[39;00m\n\u001b[1;32m    548\u001b[0m     \u001b[38;5;28;01mreturn\u001b[39;00m\n\u001b[0;32m--> 550\u001b[0m \u001b[38;5;28;43mself\u001b[39;49m\u001b[38;5;241;43m.\u001b[39;49m\u001b[43m_type_analysis\u001b[49m\u001b[43m(\u001b[49m\u001b[43m)\u001b[49m\n\u001b[1;32m    551\u001b[0m \u001b[38;5;28;01mif\u001b[39;00m \u001b[38;5;28mself\u001b[39m\u001b[38;5;241m.\u001b[39mrequired \u001b[38;5;129;01mis\u001b[39;00m Undefined:\n\u001b[1;32m    552\u001b[0m     \u001b[38;5;28mself\u001b[39m\u001b[38;5;241m.\u001b[39mrequired \u001b[38;5;241m=\u001b[39m \u001b[38;5;28;01mTrue\u001b[39;00m\n",
      "File \u001b[0;32m/usr/local/python/3.12.1/lib/python3.12/site-packages/pydantic/v1/fields.py:756\u001b[0m, in \u001b[0;36mModelField._type_analysis\u001b[0;34m(self)\u001b[0m\n\u001b[1;32m    753\u001b[0m     \u001b[38;5;28;01mraise\u001b[39;00m \u001b[38;5;167;01mTypeError\u001b[39;00m(\u001b[38;5;124mf\u001b[39m\u001b[38;5;124m'\u001b[39m\u001b[38;5;124mFields of type \u001b[39m\u001b[38;5;124m\"\u001b[39m\u001b[38;5;132;01m{\u001b[39;00morigin\u001b[38;5;132;01m}\u001b[39;00m\u001b[38;5;124m\"\u001b[39m\u001b[38;5;124m are not supported.\u001b[39m\u001b[38;5;124m'\u001b[39m)\n\u001b[1;32m    755\u001b[0m \u001b[38;5;66;03m# type_ has been refined eg. as the type of a List and sub_fields needs to be populated\u001b[39;00m\n\u001b[0;32m--> 756\u001b[0m \u001b[38;5;28mself\u001b[39m\u001b[38;5;241m.\u001b[39msub_fields \u001b[38;5;241m=\u001b[39m [\u001b[38;5;28;43mself\u001b[39;49m\u001b[38;5;241;43m.\u001b[39;49m\u001b[43m_create_sub_type\u001b[49m\u001b[43m(\u001b[49m\u001b[38;5;28;43mself\u001b[39;49m\u001b[38;5;241;43m.\u001b[39;49m\u001b[43mtype_\u001b[49m\u001b[43m,\u001b[49m\u001b[43m \u001b[49m\u001b[38;5;124;43m'\u001b[39;49m\u001b[38;5;124;43m_\u001b[39;49m\u001b[38;5;124;43m'\u001b[39;49m\u001b[43m \u001b[49m\u001b[38;5;241;43m+\u001b[39;49m\u001b[43m \u001b[49m\u001b[38;5;28;43mself\u001b[39;49m\u001b[38;5;241;43m.\u001b[39;49m\u001b[43mname\u001b[49m\u001b[43m)\u001b[49m]\n",
      "File \u001b[0;32m/usr/local/python/3.12.1/lib/python3.12/site-packages/pydantic/v1/fields.py:806\u001b[0m, in \u001b[0;36mModelField._create_sub_type\u001b[0;34m(self, type_, name, for_keys)\u001b[0m\n\u001b[1;32m    791\u001b[0m     class_validators \u001b[38;5;241m=\u001b[39m {\n\u001b[1;32m    792\u001b[0m         k: Validator(\n\u001b[1;32m    793\u001b[0m             func\u001b[38;5;241m=\u001b[39mv\u001b[38;5;241m.\u001b[39mfunc,\n\u001b[0;32m   (...)\u001b[0m\n\u001b[1;32m    801\u001b[0m         \u001b[38;5;28;01mif\u001b[39;00m v\u001b[38;5;241m.\u001b[39meach_item\n\u001b[1;32m    802\u001b[0m     }\n\u001b[1;32m    804\u001b[0m field_info, _ \u001b[38;5;241m=\u001b[39m \u001b[38;5;28mself\u001b[39m\u001b[38;5;241m.\u001b[39m_get_field_info(name, type_, \u001b[38;5;28;01mNone\u001b[39;00m, \u001b[38;5;28mself\u001b[39m\u001b[38;5;241m.\u001b[39mmodel_config)\n\u001b[0;32m--> 806\u001b[0m \u001b[38;5;28;01mreturn\u001b[39;00m \u001b[38;5;28;43mself\u001b[39;49m\u001b[38;5;241;43m.\u001b[39;49m\u001b[38;5;18;43m__class__\u001b[39;49m\u001b[43m(\u001b[49m\n\u001b[1;32m    807\u001b[0m \u001b[43m    \u001b[49m\u001b[43mtype_\u001b[49m\u001b[38;5;241;43m=\u001b[39;49m\u001b[43mtype_\u001b[49m\u001b[43m,\u001b[49m\n\u001b[1;32m    808\u001b[0m \u001b[43m    \u001b[49m\u001b[43mname\u001b[49m\u001b[38;5;241;43m=\u001b[39;49m\u001b[43mname\u001b[49m\u001b[43m,\u001b[49m\n\u001b[1;32m    809\u001b[0m \u001b[43m    \u001b[49m\u001b[43mclass_validators\u001b[49m\u001b[38;5;241;43m=\u001b[39;49m\u001b[43mclass_validators\u001b[49m\u001b[43m,\u001b[49m\n\u001b[1;32m    810\u001b[0m \u001b[43m    \u001b[49m\u001b[43mmodel_config\u001b[49m\u001b[38;5;241;43m=\u001b[39;49m\u001b[38;5;28;43mself\u001b[39;49m\u001b[38;5;241;43m.\u001b[39;49m\u001b[43mmodel_config\u001b[49m\u001b[43m,\u001b[49m\n\u001b[1;32m    811\u001b[0m \u001b[43m    \u001b[49m\u001b[43mfield_info\u001b[49m\u001b[38;5;241;43m=\u001b[39;49m\u001b[43mfield_info\u001b[49m\u001b[43m,\u001b[49m\n\u001b[1;32m    812\u001b[0m \u001b[43m\u001b[49m\u001b[43m)\u001b[49m\n",
      "File \u001b[0;32m/usr/local/python/3.12.1/lib/python3.12/site-packages/pydantic/v1/fields.py:434\u001b[0m, in \u001b[0;36mModelField.__init__\u001b[0;34m(self, name, type_, class_validators, model_config, default, default_factory, required, final, alias, field_info)\u001b[0m\n\u001b[1;32m    432\u001b[0m \u001b[38;5;28mself\u001b[39m\u001b[38;5;241m.\u001b[39mshape: \u001b[38;5;28mint\u001b[39m \u001b[38;5;241m=\u001b[39m SHAPE_SINGLETON\n\u001b[1;32m    433\u001b[0m \u001b[38;5;28mself\u001b[39m\u001b[38;5;241m.\u001b[39mmodel_config\u001b[38;5;241m.\u001b[39mprepare_field(\u001b[38;5;28mself\u001b[39m)\n\u001b[0;32m--> 434\u001b[0m \u001b[38;5;28;43mself\u001b[39;49m\u001b[38;5;241;43m.\u001b[39;49m\u001b[43mprepare\u001b[49m\u001b[43m(\u001b[49m\u001b[43m)\u001b[49m\n",
      "File \u001b[0;32m/usr/local/python/3.12.1/lib/python3.12/site-packages/pydantic/v1/fields.py:555\u001b[0m, in \u001b[0;36mModelField.prepare\u001b[0;34m(self)\u001b[0m\n\u001b[1;32m    553\u001b[0m \u001b[38;5;28;01mif\u001b[39;00m \u001b[38;5;28mself\u001b[39m\u001b[38;5;241m.\u001b[39mdefault \u001b[38;5;129;01mis\u001b[39;00m Undefined \u001b[38;5;129;01mand\u001b[39;00m \u001b[38;5;28mself\u001b[39m\u001b[38;5;241m.\u001b[39mdefault_factory \u001b[38;5;129;01mis\u001b[39;00m \u001b[38;5;28;01mNone\u001b[39;00m:\n\u001b[1;32m    554\u001b[0m     \u001b[38;5;28mself\u001b[39m\u001b[38;5;241m.\u001b[39mdefault \u001b[38;5;241m=\u001b[39m \u001b[38;5;28;01mNone\u001b[39;00m\n\u001b[0;32m--> 555\u001b[0m \u001b[38;5;28;43mself\u001b[39;49m\u001b[38;5;241;43m.\u001b[39;49m\u001b[43mpopulate_validators\u001b[49m\u001b[43m(\u001b[49m\u001b[43m)\u001b[49m\n",
      "File \u001b[0;32m/usr/local/python/3.12.1/lib/python3.12/site-packages/pydantic/v1/fields.py:829\u001b[0m, in \u001b[0;36mModelField.populate_validators\u001b[0;34m(self)\u001b[0m\n\u001b[1;32m    825\u001b[0m \u001b[38;5;28;01mif\u001b[39;00m \u001b[38;5;129;01mnot\u001b[39;00m \u001b[38;5;28mself\u001b[39m\u001b[38;5;241m.\u001b[39msub_fields \u001b[38;5;129;01mor\u001b[39;00m \u001b[38;5;28mself\u001b[39m\u001b[38;5;241m.\u001b[39mshape \u001b[38;5;241m==\u001b[39m SHAPE_GENERIC:\n\u001b[1;32m    826\u001b[0m     get_validators \u001b[38;5;241m=\u001b[39m \u001b[38;5;28mgetattr\u001b[39m(\u001b[38;5;28mself\u001b[39m\u001b[38;5;241m.\u001b[39mtype_, \u001b[38;5;124m'\u001b[39m\u001b[38;5;124m__get_validators__\u001b[39m\u001b[38;5;124m'\u001b[39m, \u001b[38;5;28;01mNone\u001b[39;00m)\n\u001b[1;32m    827\u001b[0m     v_funcs \u001b[38;5;241m=\u001b[39m (\n\u001b[1;32m    828\u001b[0m         \u001b[38;5;241m*\u001b[39m[v\u001b[38;5;241m.\u001b[39mfunc \u001b[38;5;28;01mfor\u001b[39;00m v \u001b[38;5;129;01min\u001b[39;00m class_validators_ \u001b[38;5;28;01mif\u001b[39;00m v\u001b[38;5;241m.\u001b[39meach_item \u001b[38;5;129;01mand\u001b[39;00m v\u001b[38;5;241m.\u001b[39mpre],\n\u001b[0;32m--> 829\u001b[0m         \u001b[38;5;241m*\u001b[39m(get_validators() \u001b[38;5;28;01mif\u001b[39;00m get_validators \u001b[38;5;28;01melse\u001b[39;00m \u001b[38;5;28;43mlist\u001b[39;49m\u001b[43m(\u001b[49m\u001b[43mfind_validators\u001b[49m\u001b[43m(\u001b[49m\u001b[38;5;28;43mself\u001b[39;49m\u001b[38;5;241;43m.\u001b[39;49m\u001b[43mtype_\u001b[49m\u001b[43m,\u001b[49m\u001b[43m \u001b[49m\u001b[38;5;28;43mself\u001b[39;49m\u001b[38;5;241;43m.\u001b[39;49m\u001b[43mmodel_config\u001b[49m\u001b[43m)\u001b[49m\u001b[43m)\u001b[49m),\n\u001b[1;32m    830\u001b[0m         \u001b[38;5;241m*\u001b[39m[v\u001b[38;5;241m.\u001b[39mfunc \u001b[38;5;28;01mfor\u001b[39;00m v \u001b[38;5;129;01min\u001b[39;00m class_validators_ \u001b[38;5;28;01mif\u001b[39;00m v\u001b[38;5;241m.\u001b[39meach_item \u001b[38;5;129;01mand\u001b[39;00m \u001b[38;5;129;01mnot\u001b[39;00m v\u001b[38;5;241m.\u001b[39mpre],\n\u001b[1;32m    831\u001b[0m     )\n\u001b[1;32m    832\u001b[0m     \u001b[38;5;28mself\u001b[39m\u001b[38;5;241m.\u001b[39mvalidators \u001b[38;5;241m=\u001b[39m prep_validators(v_funcs)\n\u001b[1;32m    834\u001b[0m \u001b[38;5;28mself\u001b[39m\u001b[38;5;241m.\u001b[39mpre_validators \u001b[38;5;241m=\u001b[39m []\n",
      "File \u001b[0;32m/usr/local/python/3.12.1/lib/python3.12/site-packages/pydantic/v1/validators.py:765\u001b[0m, in \u001b[0;36mfind_validators\u001b[0;34m(type_, config)\u001b[0m\n\u001b[1;32m    763\u001b[0m     \u001b[38;5;28;01myield\u001b[39;00m make_arbitrary_type_validator(type_)\n\u001b[1;32m    764\u001b[0m \u001b[38;5;28;01melse\u001b[39;00m:\n\u001b[0;32m--> 765\u001b[0m     \u001b[38;5;28;01mraise\u001b[39;00m \u001b[38;5;167;01mRuntimeError\u001b[39;00m(\u001b[38;5;124mf\u001b[39m\u001b[38;5;124m'\u001b[39m\u001b[38;5;124mno validator found for \u001b[39m\u001b[38;5;132;01m{\u001b[39;00mtype_\u001b[38;5;132;01m}\u001b[39;00m\u001b[38;5;124m, see `arbitrary_types_allowed` in Config\u001b[39m\u001b[38;5;124m'\u001b[39m)\n",
      "\u001b[0;31mRuntimeError\u001b[0m: no validator found for <class 'langchain_core.runnables.base.Runnable'>, see `arbitrary_types_allowed` in Config"
     ]
    }
   ],
   "source": [
    "result = crew.kickoff(inputs={\"topic\": \"Central Bank Digital Currency\"})"
   ]
  },
  {
   "cell_type": "code",
   "execution_count": null,
   "metadata": {},
   "outputs": [],
   "source": []
  }
 ],
 "metadata": {
  "colab": {
   "authorship_tag": "ABX9TyMhNFN5+K9g0IiaRgj6/oEh",
   "provenance": []
  },
  "kernelspec": {
   "display_name": "Python 3",
   "name": "python3"
  },
  "language_info": {
   "codemirror_mode": {
    "name": "ipython",
    "version": 3
   },
   "file_extension": ".py",
   "mimetype": "text/x-python",
   "name": "python",
   "nbconvert_exporter": "python",
   "pygments_lexer": "ipython3",
   "version": "3.12.1"
  }
 },
 "nbformat": 4,
 "nbformat_minor": 0
}
